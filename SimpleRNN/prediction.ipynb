{
 "cells": [
  {
   "cell_type": "code",
   "execution_count": 41,
   "id": "1217a830",
   "metadata": {},
   "outputs": [],
   "source": [
    "# Import Libraries and Load the model \n",
    "\n",
    "import numpy as np \n",
    "import tensorflow as tf\n",
    "\n",
    "from tensorflow.keras.datasets import imdb\n",
    "from tensorflow.keras.preprocessing import sequence\n",
    "from tensorflow.keras.models import load_model"
   ]
  },
  {
   "cell_type": "code",
   "execution_count": 42,
   "id": "22f37b6e",
   "metadata": {},
   "outputs": [],
   "source": [
    "# Loas the IMDB datasets word index \n",
    "word_index = imdb.get_word_index()\n",
    "reverse_word_index = {value: key for key, value in word_index.items()}"
   ]
  },
  {
   "cell_type": "code",
   "execution_count": 43,
   "id": "d8b66cb4",
   "metadata": {},
   "outputs": [
    {
     "name": "stderr",
     "output_type": "stream",
     "text": [
      "WARNING:absl:Compiled the loaded model, but the compiled metrics have yet to be built. `model.compile_metrics` will be empty until you train or evaluate the model.\n"
     ]
    },
    {
     "data": {
      "text/html": [
       "<pre style=\"white-space:pre;overflow-x:auto;line-height:normal;font-family:Menlo,'DejaVu Sans Mono',consolas,'Courier New',monospace\"><span style=\"font-weight: bold\">Model: \"sequential_2\"</span>\n",
       "</pre>\n"
      ],
      "text/plain": [
       "\u001b[1mModel: \"sequential_2\"\u001b[0m\n"
      ]
     },
     "metadata": {},
     "output_type": "display_data"
    },
    {
     "data": {
      "text/html": [
       "<pre style=\"white-space:pre;overflow-x:auto;line-height:normal;font-family:Menlo,'DejaVu Sans Mono',consolas,'Courier New',monospace\">┏━━━━━━━━━━━━━━━━━━━━━━━━━━━━━━━━━┳━━━━━━━━━━━━━━━━━━━━━━━━┳━━━━━━━━━━━━━━━┓\n",
       "┃<span style=\"font-weight: bold\"> Layer (type)                    </span>┃<span style=\"font-weight: bold\"> Output Shape           </span>┃<span style=\"font-weight: bold\">       Param # </span>┃\n",
       "┡━━━━━━━━━━━━━━━━━━━━━━━━━━━━━━━━━╇━━━━━━━━━━━━━━━━━━━━━━━━╇━━━━━━━━━━━━━━━┩\n",
       "│ embedding_2 (<span style=\"color: #0087ff; text-decoration-color: #0087ff\">Embedding</span>)         │ (<span style=\"color: #00af00; text-decoration-color: #00af00\">32</span>, <span style=\"color: #00af00; text-decoration-color: #00af00\">500</span>, <span style=\"color: #00af00; text-decoration-color: #00af00\">128</span>)         │     <span style=\"color: #00af00; text-decoration-color: #00af00\">1,280,000</span> │\n",
       "├─────────────────────────────────┼────────────────────────┼───────────────┤\n",
       "│ simple_rnn_2 (<span style=\"color: #0087ff; text-decoration-color: #0087ff\">SimpleRNN</span>)        │ (<span style=\"color: #00af00; text-decoration-color: #00af00\">32</span>, <span style=\"color: #00af00; text-decoration-color: #00af00\">128</span>)              │        <span style=\"color: #00af00; text-decoration-color: #00af00\">32,896</span> │\n",
       "├─────────────────────────────────┼────────────────────────┼───────────────┤\n",
       "│ dense_2 (<span style=\"color: #0087ff; text-decoration-color: #0087ff\">Dense</span>)                 │ (<span style=\"color: #00af00; text-decoration-color: #00af00\">32</span>, <span style=\"color: #00af00; text-decoration-color: #00af00\">1</span>)                │           <span style=\"color: #00af00; text-decoration-color: #00af00\">129</span> │\n",
       "└─────────────────────────────────┴────────────────────────┴───────────────┘\n",
       "</pre>\n"
      ],
      "text/plain": [
       "┏━━━━━━━━━━━━━━━━━━━━━━━━━━━━━━━━━┳━━━━━━━━━━━━━━━━━━━━━━━━┳━━━━━━━━━━━━━━━┓\n",
       "┃\u001b[1m \u001b[0m\u001b[1mLayer (type)                   \u001b[0m\u001b[1m \u001b[0m┃\u001b[1m \u001b[0m\u001b[1mOutput Shape          \u001b[0m\u001b[1m \u001b[0m┃\u001b[1m \u001b[0m\u001b[1m      Param #\u001b[0m\u001b[1m \u001b[0m┃\n",
       "┡━━━━━━━━━━━━━━━━━━━━━━━━━━━━━━━━━╇━━━━━━━━━━━━━━━━━━━━━━━━╇━━━━━━━━━━━━━━━┩\n",
       "│ embedding_2 (\u001b[38;5;33mEmbedding\u001b[0m)         │ (\u001b[38;5;34m32\u001b[0m, \u001b[38;5;34m500\u001b[0m, \u001b[38;5;34m128\u001b[0m)         │     \u001b[38;5;34m1,280,000\u001b[0m │\n",
       "├─────────────────────────────────┼────────────────────────┼───────────────┤\n",
       "│ simple_rnn_2 (\u001b[38;5;33mSimpleRNN\u001b[0m)        │ (\u001b[38;5;34m32\u001b[0m, \u001b[38;5;34m128\u001b[0m)              │        \u001b[38;5;34m32,896\u001b[0m │\n",
       "├─────────────────────────────────┼────────────────────────┼───────────────┤\n",
       "│ dense_2 (\u001b[38;5;33mDense\u001b[0m)                 │ (\u001b[38;5;34m32\u001b[0m, \u001b[38;5;34m1\u001b[0m)                │           \u001b[38;5;34m129\u001b[0m │\n",
       "└─────────────────────────────────┴────────────────────────┴───────────────┘\n"
      ]
     },
     "metadata": {},
     "output_type": "display_data"
    },
    {
     "data": {
      "text/html": [
       "<pre style=\"white-space:pre;overflow-x:auto;line-height:normal;font-family:Menlo,'DejaVu Sans Mono',consolas,'Courier New',monospace\"><span style=\"font-weight: bold\"> Total params: </span><span style=\"color: #00af00; text-decoration-color: #00af00\">1,313,027</span> (5.01 MB)\n",
       "</pre>\n"
      ],
      "text/plain": [
       "\u001b[1m Total params: \u001b[0m\u001b[38;5;34m1,313,027\u001b[0m (5.01 MB)\n"
      ]
     },
     "metadata": {},
     "output_type": "display_data"
    },
    {
     "data": {
      "text/html": [
       "<pre style=\"white-space:pre;overflow-x:auto;line-height:normal;font-family:Menlo,'DejaVu Sans Mono',consolas,'Courier New',monospace\"><span style=\"font-weight: bold\"> Trainable params: </span><span style=\"color: #00af00; text-decoration-color: #00af00\">1,313,025</span> (5.01 MB)\n",
       "</pre>\n"
      ],
      "text/plain": [
       "\u001b[1m Trainable params: \u001b[0m\u001b[38;5;34m1,313,025\u001b[0m (5.01 MB)\n"
      ]
     },
     "metadata": {},
     "output_type": "display_data"
    },
    {
     "data": {
      "text/html": [
       "<pre style=\"white-space:pre;overflow-x:auto;line-height:normal;font-family:Menlo,'DejaVu Sans Mono',consolas,'Courier New',monospace\"><span style=\"font-weight: bold\"> Non-trainable params: </span><span style=\"color: #00af00; text-decoration-color: #00af00\">0</span> (0.00 B)\n",
       "</pre>\n"
      ],
      "text/plain": [
       "\u001b[1m Non-trainable params: \u001b[0m\u001b[38;5;34m0\u001b[0m (0.00 B)\n"
      ]
     },
     "metadata": {},
     "output_type": "display_data"
    },
    {
     "data": {
      "text/html": [
       "<pre style=\"white-space:pre;overflow-x:auto;line-height:normal;font-family:Menlo,'DejaVu Sans Mono',consolas,'Courier New',monospace\"><span style=\"font-weight: bold\"> Optimizer params: </span><span style=\"color: #00af00; text-decoration-color: #00af00\">2</span> (12.00 B)\n",
       "</pre>\n"
      ],
      "text/plain": [
       "\u001b[1m Optimizer params: \u001b[0m\u001b[38;5;34m2\u001b[0m (12.00 B)\n"
      ]
     },
     "metadata": {},
     "output_type": "display_data"
    }
   ],
   "source": [
    "# Load the per-tranied model with Relu activation \n",
    "model = load_model('simple_rnn_imdb.h5')\n",
    "model.summary()"
   ]
  },
  {
   "cell_type": "code",
   "execution_count": 44,
   "id": "726a562a",
   "metadata": {},
   "outputs": [
    {
     "data": {
      "text/plain": [
       "[array([[ 0.38995534,  0.4309184 ,  0.4181796 , ..., -0.17567466,\n",
       "         -0.486206  , -0.4981708 ],\n",
       "        [-0.00669473,  0.00156011, -0.03179181, ...,  0.00462031,\n",
       "         -0.02200034,  0.04277957],\n",
       "        [-0.01512455,  0.04813513,  0.06462652, ..., -0.0823143 ,\n",
       "          0.03705419,  0.03405975],\n",
       "        ...,\n",
       "        [ 0.07690271, -0.10130496,  0.00624582, ...,  0.09134942,\n",
       "         -0.03801829, -0.14118277],\n",
       "        [ 0.00052109, -0.02526243,  0.07427216, ...,  0.0056532 ,\n",
       "         -0.04832449, -0.04290828],\n",
       "        [ 0.01042421,  0.0587008 ,  0.07762867, ...,  0.00852826,\n",
       "         -0.01228974, -0.085294  ]], shape=(10000, 128), dtype=float32),\n",
       " array([[-0.19047128,  0.02986705,  0.13970405, ..., -0.00072722,\n",
       "         -0.09683569,  0.00505591],\n",
       "        [-0.0445298 ,  0.15757516,  0.0045009 , ..., -0.09117427,\n",
       "         -0.15481806, -0.12358277],\n",
       "        [ 0.07140363, -0.00317963,  0.15584949, ...,  0.09113897,\n",
       "          0.04864794, -0.07523473],\n",
       "        ...,\n",
       "        [-0.10100335,  0.1025371 ,  0.03224488, ...,  0.05580589,\n",
       "         -0.08824541, -0.04970141],\n",
       "        [ 0.08515895, -0.10357692, -0.16935545, ..., -0.06947234,\n",
       "         -0.06392939, -0.01828569],\n",
       "        [-0.01232158,  0.11171312, -0.11757633, ..., -0.10930823,\n",
       "          0.05728117,  0.11498336]], shape=(128, 128), dtype=float32),\n",
       " array([[-3.99890877e-02, -8.46069753e-02,  7.28249969e-03, ...,\n",
       "         -2.39623651e-01,  1.52139917e-01,  6.12652302e-02],\n",
       "        [ 7.02393949e-02, -1.21148124e-01,  4.23911326e-02, ...,\n",
       "         -2.96629239e-02,  6.15551844e-02,  1.19782478e-01],\n",
       "        [ 5.23267761e-02,  1.37223098e-02,  1.97954550e-01, ...,\n",
       "         -1.85086988e-02,  8.39860290e-02, -1.96658280e-02],\n",
       "        ...,\n",
       "        [ 2.19564572e-01, -8.41310322e-02, -4.78190742e-02, ...,\n",
       "         -6.97227195e-02,  2.27260068e-02, -3.89018618e-02],\n",
       "        [ 6.79892227e-02,  2.23983824e-02, -1.11924700e-01, ...,\n",
       "         -3.53942887e-05,  5.51185384e-02, -2.28593260e-01],\n",
       "        [ 1.12803422e-01, -3.74358222e-02, -2.43281871e-02, ...,\n",
       "         -1.41832873e-01, -9.15033557e-03,  1.13722049e-01]],\n",
       "       shape=(128, 128), dtype=float32),\n",
       " array([ 0.0044566 , -0.01102137, -0.0200561 , -0.03497063,  0.01623514,\n",
       "        -0.03589575,  0.00195067,  0.00812246, -0.02355357, -0.0396437 ,\n",
       "         0.02697648, -0.03337387,  0.03329137, -0.01661929, -0.00458561,\n",
       "         0.00881735, -0.00906011, -0.00817739, -0.03522913,  0.00263566,\n",
       "        -0.03912869, -0.00523122, -0.05061787,  0.00845656, -0.01177119,\n",
       "        -0.03516187,  0.00081301,  0.01085981, -0.04172842, -0.01938127,\n",
       "        -0.03754538, -0.00876966,  0.01652226, -0.00561692, -0.02641682,\n",
       "         0.01857461, -0.0074789 , -0.03767876, -0.00254878, -0.02519177,\n",
       "        -0.05766395, -0.03371001,  0.02149888, -0.01865376, -0.00353942,\n",
       "         0.01643274, -0.05291265, -0.0290815 ,  0.0208975 , -0.00407555,\n",
       "        -0.04070173,  0.02301224,  0.01021746,  0.00056446, -0.0121553 ,\n",
       "         0.00591662, -0.0122062 , -0.02051325, -0.0361497 , -0.02117898,\n",
       "        -0.02916773, -0.03738962,  0.07550922,  0.00109379, -0.03002969,\n",
       "        -0.02749027, -0.00176951, -0.00964817,  0.02041939,  0.01241399,\n",
       "        -0.01805048, -0.04437336, -0.02957396, -0.01572133,  0.0112259 ,\n",
       "         0.00998145,  0.02415691,  0.01104133,  0.00540878,  0.01463055,\n",
       "        -0.03975453,  0.0057394 , -0.01571568, -0.04459446, -0.01244625,\n",
       "        -0.03600832, -0.05063547,  0.01538279,  0.00625558,  0.02163273,\n",
       "        -0.0092793 ,  0.00696663, -0.04037951,  0.03546612,  0.00887785,\n",
       "        -0.02978458, -0.00079384, -0.02755243,  0.00519876, -0.00246901,\n",
       "        -0.0145331 , -0.03290941, -0.04182464,  0.02615458, -0.0443549 ,\n",
       "        -0.0129735 , -0.04795676,  0.02562184,  0.00756687,  0.00048726,\n",
       "        -0.05566837,  0.00879204, -0.01523013,  0.01386115, -0.00391495,\n",
       "        -0.00036881, -0.00385445, -0.0284115 , -0.01097408,  0.00425047,\n",
       "        -0.02207635,  0.00241688, -0.01733913, -0.00015011,  0.01003588,\n",
       "         0.03214259,  0.02198015, -0.01676979], dtype=float32),\n",
       " array([[ 0.22494231],\n",
       "        [ 0.33170617],\n",
       "        [-0.07617514],\n",
       "        [ 0.15631795],\n",
       "        [ 0.00945387],\n",
       "        [ 0.09325051],\n",
       "        [ 0.09217469],\n",
       "        [ 0.1095746 ],\n",
       "        [ 0.4722033 ],\n",
       "        [ 0.19359833],\n",
       "        [ 0.14207755],\n",
       "        [ 0.11285901],\n",
       "        [-0.0523424 ],\n",
       "        [-0.17974645],\n",
       "        [-0.06796288],\n",
       "        [-0.10214733],\n",
       "        [ 0.23299415],\n",
       "        [ 0.2246914 ],\n",
       "        [ 0.08417547],\n",
       "        [-0.0471216 ],\n",
       "        [ 0.15075134],\n",
       "        [-0.88910466],\n",
       "        [ 0.16326489],\n",
       "        [ 0.01457794],\n",
       "        [-0.1519039 ],\n",
       "        [ 0.1302477 ],\n",
       "        [ 0.0960246 ],\n",
       "        [-0.14877513],\n",
       "        [ 0.17928669],\n",
       "        [ 0.09026183],\n",
       "        [-0.14476584],\n",
       "        [-0.00986468],\n",
       "        [ 0.02892029],\n",
       "        [ 0.07369276],\n",
       "        [ 0.18808335],\n",
       "        [ 0.14802772],\n",
       "        [-0.09194843],\n",
       "        [ 0.1617246 ],\n",
       "        [-0.33838862],\n",
       "        [-0.02087522],\n",
       "        [-0.1712712 ],\n",
       "        [-0.08218883],\n",
       "        [ 0.03282975],\n",
       "        [-0.14682004],\n",
       "        [-0.12799443],\n",
       "        [-0.12314697],\n",
       "        [ 0.02713206],\n",
       "        [-0.26362187],\n",
       "        [ 0.18477878],\n",
       "        [ 0.25210908],\n",
       "        [ 0.13949539],\n",
       "        [ 0.23623398],\n",
       "        [ 0.05261417],\n",
       "        [-0.0675074 ],\n",
       "        [ 0.07281768],\n",
       "        [ 0.1634579 ],\n",
       "        [-0.17934878],\n",
       "        [-0.15516458],\n",
       "        [-0.09973802],\n",
       "        [ 0.27152517],\n",
       "        [ 0.09466715],\n",
       "        [ 0.24093065],\n",
       "        [ 0.12246489],\n",
       "        [ 0.18638745],\n",
       "        [-0.00949289],\n",
       "        [-0.05530806],\n",
       "        [ 0.03196009],\n",
       "        [ 0.03324492],\n",
       "        [ 0.11688171],\n",
       "        [-0.1692743 ],\n",
       "        [ 0.20476308],\n",
       "        [ 0.0483371 ],\n",
       "        [ 0.16070038],\n",
       "        [ 0.07227319],\n",
       "        [-0.0064212 ],\n",
       "        [ 0.04453765],\n",
       "        [ 0.18398665],\n",
       "        [ 0.15498355],\n",
       "        [ 0.13039581],\n",
       "        [ 0.13358094],\n",
       "        [ 0.1791524 ],\n",
       "        [ 0.08611044],\n",
       "        [-0.00422726],\n",
       "        [-0.09742048],\n",
       "        [-0.06012558],\n",
       "        [ 0.41235286],\n",
       "        [-0.02903659],\n",
       "        [-0.12347771],\n",
       "        [ 0.01943454],\n",
       "        [ 0.13118646],\n",
       "        [-0.4593802 ],\n",
       "        [-0.13725635],\n",
       "        [-0.16599867],\n",
       "        [ 0.17347254],\n",
       "        [ 0.00239095],\n",
       "        [-0.16853541],\n",
       "        [-0.11573062],\n",
       "        [-0.19932576],\n",
       "        [-0.13725702],\n",
       "        [-0.07538414],\n",
       "        [ 0.18941738],\n",
       "        [ 0.2853554 ],\n",
       "        [-0.38657957],\n",
       "        [ 0.12817118],\n",
       "        [ 0.64335144],\n",
       "        [-0.17824355],\n",
       "        [-1.0731941 ],\n",
       "        [ 0.1724029 ],\n",
       "        [ 0.15607633],\n",
       "        [ 0.02029862],\n",
       "        [-0.17087951],\n",
       "        [-0.17024276],\n",
       "        [-0.5339616 ],\n",
       "        [-0.18593597],\n",
       "        [-0.00898694],\n",
       "        [ 0.18656704],\n",
       "        [-0.11700609],\n",
       "        [-0.7394055 ],\n",
       "        [-0.5573862 ],\n",
       "        [-0.11288637],\n",
       "        [ 0.20800394],\n",
       "        [-0.188358  ],\n",
       "        [-0.13096656],\n",
       "        [-0.47372097],\n",
       "        [-0.141038  ],\n",
       "        [-0.08264305],\n",
       "        [ 0.19307613],\n",
       "        [ 0.28472927]], dtype=float32),\n",
       " array([-1.0643526], dtype=float32)]"
      ]
     },
     "execution_count": 44,
     "metadata": {},
     "output_type": "execute_result"
    }
   ],
   "source": [
    "model.get_weights()"
   ]
  },
  {
   "cell_type": "code",
   "execution_count": 45,
   "id": "49e6d3da",
   "metadata": {},
   "outputs": [],
   "source": [
    "# Helper Functions\n",
    "# Function to decoder reviews\n",
    "def decode_review(encoded_review):\n",
    "    return ' '.join([reverse_word_index.get(i-1,'?') for i in encoded_review])\n",
    "\n",
    "# Function to preprocess user input \n",
    "\n",
    "def preprocess_text(text):\n",
    "    words = text.lower().split()\n",
    "    encoded_review = [word_index.get(word, 2) + 3 for word in words]\n",
    "    padded_review = sequence.pad_sequences([encoded_review], maxlen=500)\n",
    "    return padded_review"
   ]
  },
  {
   "cell_type": "code",
   "execution_count": 46,
   "id": "275d7bed",
   "metadata": {},
   "outputs": [],
   "source": [
    "# Prediction function \n",
    "\n",
    "def predict_sentiment(review):\n",
    "    preprocessed_input=preprocess_text(review)\n",
    "\n",
    "    prediction=model.predict(preprocessed_input)\n",
    "\n",
    "    sentiment = 'Positive' if prediction[0][0] > 0.5 else 'Negative'\n",
    "\n",
    "    return sentiment, prediction[0][0]\n",
    "\n"
   ]
  },
  {
   "cell_type": "code",
   "execution_count": 47,
   "id": "088b388b",
   "metadata": {},
   "outputs": [
    {
     "name": "stdout",
     "output_type": "stream",
     "text": [
      "WARNING:tensorflow:6 out of the last 10 calls to <function TensorFlowTrainer.make_predict_function.<locals>.one_step_on_data_distributed at 0x000002219CBEC720> triggered tf.function retracing. Tracing is expensive and the excessive number of tracings could be due to (1) creating @tf.function repeatedly in a loop, (2) passing tensors with different shapes, (3) passing Python objects instead of tensors. For (1), please define your @tf.function outside of the loop. For (2), @tf.function has reduce_retracing=True option that can avoid unnecessary retracing. For (3), please refer to https://www.tensorflow.org/guide/function#controlling_retracing and https://www.tensorflow.org/api_docs/python/tf/function for  more details.\n"
     ]
    },
    {
     "name": "stderr",
     "output_type": "stream",
     "text": [
      "WARNING:tensorflow:6 out of the last 10 calls to <function TensorFlowTrainer.make_predict_function.<locals>.one_step_on_data_distributed at 0x000002219CBEC720> triggered tf.function retracing. Tracing is expensive and the excessive number of tracings could be due to (1) creating @tf.function repeatedly in a loop, (2) passing tensors with different shapes, (3) passing Python objects instead of tensors. For (1), please define your @tf.function outside of the loop. For (2), @tf.function has reduce_retracing=True option that can avoid unnecessary retracing. For (3), please refer to https://www.tensorflow.org/guide/function#controlling_retracing and https://www.tensorflow.org/api_docs/python/tf/function for  more details.\n"
     ]
    },
    {
     "name": "stdout",
     "output_type": "stream",
     "text": [
      "\u001b[1m1/1\u001b[0m \u001b[32m━━━━━━━━━━━━━━━━━━━━\u001b[0m\u001b[37m\u001b[0m \u001b[1m0s\u001b[0m 198ms/step\n",
      "Review: The movie is bad I don't like to watch this movie again\n",
      "Sentiment Positive\n",
      "Prediction Score: 0.9999958276748657\n"
     ]
    }
   ],
   "source": [
    "# User imput and prediction \n",
    "# Example review for prediction \n",
    "example_review = \"The movie is bad I don't like to watch this movie again\"\n",
    "\n",
    "sentiment, score = predict_sentiment(example_review)\n",
    "\n",
    "print(f'Review: {example_review}')\n",
    "print(f'Sentiment {sentiment}')\n",
    "print(f'Prediction Score: {score}')\n",
    "\n"
   ]
  },
  {
   "cell_type": "code",
   "execution_count": null,
   "id": "f49a6f1e",
   "metadata": {},
   "outputs": [],
   "source": []
  },
  {
   "cell_type": "code",
   "execution_count": null,
   "id": "9bee612f",
   "metadata": {},
   "outputs": [],
   "source": []
  },
  {
   "cell_type": "code",
   "execution_count": null,
   "id": "0f9c4431",
   "metadata": {},
   "outputs": [],
   "source": []
  }
 ],
 "metadata": {
  "kernelspec": {
   "display_name": "Python 3",
   "language": "python",
   "name": "python3"
  },
  "language_info": {
   "codemirror_mode": {
    "name": "ipython",
    "version": 3
   },
   "file_extension": ".py",
   "mimetype": "text/x-python",
   "name": "python",
   "nbconvert_exporter": "python",
   "pygments_lexer": "ipython3",
   "version": "3.11.0"
  }
 },
 "nbformat": 4,
 "nbformat_minor": 5
}
