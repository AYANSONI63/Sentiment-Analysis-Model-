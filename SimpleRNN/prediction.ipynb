{
 "cells": [
  {
   "cell_type": "code",
   "execution_count": 25,
   "id": "1217a830",
   "metadata": {},
   "outputs": [],
   "source": [
    "# Import Libraries and Load the model \n",
    "\n",
    "import numpy as np \n",
    "import tensorflow as tf\n",
    "\n",
    "from tensorflow.keras.datasets import imdb\n",
    "from tensorflow.keras.preprocessing import sequence\n",
    "from tensorflow.keras.models import load_model"
   ]
  },
  {
   "cell_type": "code",
   "execution_count": 26,
   "id": "22f37b6e",
   "metadata": {},
   "outputs": [],
   "source": [
    "# Loas the IMDB datasets word index \n",
    "word_index = imdb.get_word_index()\n",
    "reverse_word_index = {value: key for key, value in word_index.items()}"
   ]
  },
  {
   "cell_type": "code",
   "execution_count": 27,
   "id": "d8b66cb4",
   "metadata": {},
   "outputs": [
    {
     "name": "stderr",
     "output_type": "stream",
     "text": [
      "WARNING:absl:Compiled the loaded model, but the compiled metrics have yet to be built. `model.compile_metrics` will be empty until you train or evaluate the model.\n"
     ]
    },
    {
     "data": {
      "text/html": [
       "<pre style=\"white-space:pre;overflow-x:auto;line-height:normal;font-family:Menlo,'DejaVu Sans Mono',consolas,'Courier New',monospace\"><span style=\"font-weight: bold\">Model: \"sequential\"</span>\n",
       "</pre>\n"
      ],
      "text/plain": [
       "\u001b[1mModel: \"sequential\"\u001b[0m\n"
      ]
     },
     "metadata": {},
     "output_type": "display_data"
    },
    {
     "data": {
      "text/html": [
       "<pre style=\"white-space:pre;overflow-x:auto;line-height:normal;font-family:Menlo,'DejaVu Sans Mono',consolas,'Courier New',monospace\">┏━━━━━━━━━━━━━━━━━━━━━━━━━━━━━━━━━┳━━━━━━━━━━━━━━━━━━━━━━━━┳━━━━━━━━━━━━━━━┓\n",
       "┃<span style=\"font-weight: bold\"> Layer (type)                    </span>┃<span style=\"font-weight: bold\"> Output Shape           </span>┃<span style=\"font-weight: bold\">       Param # </span>┃\n",
       "┡━━━━━━━━━━━━━━━━━━━━━━━━━━━━━━━━━╇━━━━━━━━━━━━━━━━━━━━━━━━╇━━━━━━━━━━━━━━━┩\n",
       "│ embedding (<span style=\"color: #0087ff; text-decoration-color: #0087ff\">Embedding</span>)           │ (<span style=\"color: #00af00; text-decoration-color: #00af00\">32</span>, <span style=\"color: #00af00; text-decoration-color: #00af00\">500</span>, <span style=\"color: #00af00; text-decoration-color: #00af00\">128</span>)         │     <span style=\"color: #00af00; text-decoration-color: #00af00\">1,280,000</span> │\n",
       "├─────────────────────────────────┼────────────────────────┼───────────────┤\n",
       "│ simple_rnn (<span style=\"color: #0087ff; text-decoration-color: #0087ff\">SimpleRNN</span>)          │ (<span style=\"color: #00af00; text-decoration-color: #00af00\">32</span>, <span style=\"color: #00af00; text-decoration-color: #00af00\">128</span>)              │        <span style=\"color: #00af00; text-decoration-color: #00af00\">32,896</span> │\n",
       "├─────────────────────────────────┼────────────────────────┼───────────────┤\n",
       "│ dense (<span style=\"color: #0087ff; text-decoration-color: #0087ff\">Dense</span>)                   │ (<span style=\"color: #00af00; text-decoration-color: #00af00\">32</span>, <span style=\"color: #00af00; text-decoration-color: #00af00\">1</span>)                │           <span style=\"color: #00af00; text-decoration-color: #00af00\">129</span> │\n",
       "└─────────────────────────────────┴────────────────────────┴───────────────┘\n",
       "</pre>\n"
      ],
      "text/plain": [
       "┏━━━━━━━━━━━━━━━━━━━━━━━━━━━━━━━━━┳━━━━━━━━━━━━━━━━━━━━━━━━┳━━━━━━━━━━━━━━━┓\n",
       "┃\u001b[1m \u001b[0m\u001b[1mLayer (type)                   \u001b[0m\u001b[1m \u001b[0m┃\u001b[1m \u001b[0m\u001b[1mOutput Shape          \u001b[0m\u001b[1m \u001b[0m┃\u001b[1m \u001b[0m\u001b[1m      Param #\u001b[0m\u001b[1m \u001b[0m┃\n",
       "┡━━━━━━━━━━━━━━━━━━━━━━━━━━━━━━━━━╇━━━━━━━━━━━━━━━━━━━━━━━━╇━━━━━━━━━━━━━━━┩\n",
       "│ embedding (\u001b[38;5;33mEmbedding\u001b[0m)           │ (\u001b[38;5;34m32\u001b[0m, \u001b[38;5;34m500\u001b[0m, \u001b[38;5;34m128\u001b[0m)         │     \u001b[38;5;34m1,280,000\u001b[0m │\n",
       "├─────────────────────────────────┼────────────────────────┼───────────────┤\n",
       "│ simple_rnn (\u001b[38;5;33mSimpleRNN\u001b[0m)          │ (\u001b[38;5;34m32\u001b[0m, \u001b[38;5;34m128\u001b[0m)              │        \u001b[38;5;34m32,896\u001b[0m │\n",
       "├─────────────────────────────────┼────────────────────────┼───────────────┤\n",
       "│ dense (\u001b[38;5;33mDense\u001b[0m)                   │ (\u001b[38;5;34m32\u001b[0m, \u001b[38;5;34m1\u001b[0m)                │           \u001b[38;5;34m129\u001b[0m │\n",
       "└─────────────────────────────────┴────────────────────────┴───────────────┘\n"
      ]
     },
     "metadata": {},
     "output_type": "display_data"
    },
    {
     "data": {
      "text/html": [
       "<pre style=\"white-space:pre;overflow-x:auto;line-height:normal;font-family:Menlo,'DejaVu Sans Mono',consolas,'Courier New',monospace\"><span style=\"font-weight: bold\"> Total params: </span><span style=\"color: #00af00; text-decoration-color: #00af00\">1,313,027</span> (5.01 MB)\n",
       "</pre>\n"
      ],
      "text/plain": [
       "\u001b[1m Total params: \u001b[0m\u001b[38;5;34m1,313,027\u001b[0m (5.01 MB)\n"
      ]
     },
     "metadata": {},
     "output_type": "display_data"
    },
    {
     "data": {
      "text/html": [
       "<pre style=\"white-space:pre;overflow-x:auto;line-height:normal;font-family:Menlo,'DejaVu Sans Mono',consolas,'Courier New',monospace\"><span style=\"font-weight: bold\"> Trainable params: </span><span style=\"color: #00af00; text-decoration-color: #00af00\">1,313,025</span> (5.01 MB)\n",
       "</pre>\n"
      ],
      "text/plain": [
       "\u001b[1m Trainable params: \u001b[0m\u001b[38;5;34m1,313,025\u001b[0m (5.01 MB)\n"
      ]
     },
     "metadata": {},
     "output_type": "display_data"
    },
    {
     "data": {
      "text/html": [
       "<pre style=\"white-space:pre;overflow-x:auto;line-height:normal;font-family:Menlo,'DejaVu Sans Mono',consolas,'Courier New',monospace\"><span style=\"font-weight: bold\"> Non-trainable params: </span><span style=\"color: #00af00; text-decoration-color: #00af00\">0</span> (0.00 B)\n",
       "</pre>\n"
      ],
      "text/plain": [
       "\u001b[1m Non-trainable params: \u001b[0m\u001b[38;5;34m0\u001b[0m (0.00 B)\n"
      ]
     },
     "metadata": {},
     "output_type": "display_data"
    },
    {
     "data": {
      "text/html": [
       "<pre style=\"white-space:pre;overflow-x:auto;line-height:normal;font-family:Menlo,'DejaVu Sans Mono',consolas,'Courier New',monospace\"><span style=\"font-weight: bold\"> Optimizer params: </span><span style=\"color: #00af00; text-decoration-color: #00af00\">2</span> (12.00 B)\n",
       "</pre>\n"
      ],
      "text/plain": [
       "\u001b[1m Optimizer params: \u001b[0m\u001b[38;5;34m2\u001b[0m (12.00 B)\n"
      ]
     },
     "metadata": {},
     "output_type": "display_data"
    }
   ],
   "source": [
    "# Load the per-tranied model with Relu activation \n",
    "model = load_model('simple_rnn_imdb.h5')\n",
    "model.summary()"
   ]
  },
  {
   "cell_type": "code",
   "execution_count": 28,
   "id": "726a562a",
   "metadata": {},
   "outputs": [
    {
     "data": {
      "text/plain": [
       "[array([[ 0.49559757, -0.47278842,  0.49333185, ...,  0.4997911 ,\n",
       "          0.54368687, -0.51111996],\n",
       "        [-0.05723579,  0.01824194, -0.04625969, ...,  0.0434666 ,\n",
       "          0.03626331, -0.02036223],\n",
       "        [ 0.1131743 , -0.06548519, -0.01027243, ...,  0.09877487,\n",
       "          0.10040251, -0.03586424],\n",
       "        ...,\n",
       "        [ 0.0065846 ,  0.05075913,  0.07149266, ..., -0.01255237,\n",
       "          0.00348958, -0.02857781],\n",
       "        [ 0.03684373,  0.00948658,  0.05576956, ...,  0.05921071,\n",
       "         -0.00201081,  0.04227531],\n",
       "        [-0.05484425, -0.00699516,  0.03908179, ...,  0.06157696,\n",
       "         -0.01046798,  0.0767998 ]], shape=(10000, 128), dtype=float32),\n",
       " array([[-2.77243648e-02,  5.96341677e-02, -6.76300004e-02, ...,\n",
       "          8.93789753e-02, -1.03058696e-01,  1.24778859e-01],\n",
       "        [ 8.10695663e-02,  4.88600135e-02, -3.42066735e-02, ...,\n",
       "          8.52849707e-03,  1.49255067e-01,  1.23673789e-01],\n",
       "        [ 8.96227732e-02,  3.88842188e-02,  1.96903348e-02, ...,\n",
       "          1.01460166e-01, -5.96788451e-02,  2.07628429e-01],\n",
       "        ...,\n",
       "        [ 1.26557648e-02,  4.65297066e-02, -1.45973831e-01, ...,\n",
       "          6.31865039e-02, -1.34568527e-01, -2.03061730e-01],\n",
       "        [-1.72876075e-01, -6.95207389e-03, -7.86870271e-02, ...,\n",
       "         -1.56390011e-01,  3.42146923e-05, -1.29125148e-01],\n",
       "        [-1.36795491e-01,  2.19257306e-02, -4.98297587e-02, ...,\n",
       "          1.40733153e-01,  3.11086401e-02,  2.02262085e-02]],\n",
       "       shape=(128, 128), dtype=float32),\n",
       " array([[ 0.06755117,  0.04672769, -0.03524282, ...,  0.01122805,\n",
       "          0.02247175, -0.02219316],\n",
       "        [ 0.01063486, -0.05255557, -0.10099669, ...,  0.20681466,\n",
       "          0.09288358,  0.03748455],\n",
       "        [-0.05317164, -0.01627872, -0.11220188, ..., -0.20544557,\n",
       "         -0.2619281 ,  0.08075837],\n",
       "        ...,\n",
       "        [-0.0925667 , -0.00791807,  0.01651349, ..., -0.00527863,\n",
       "         -0.05269619, -0.02779517],\n",
       "        [-0.09538297,  0.06614247,  0.0235929 , ...,  0.15275384,\n",
       "         -0.08313172,  0.04984929],\n",
       "        [-0.02848698, -0.13011947,  0.1690945 , ..., -0.04854827,\n",
       "         -0.04618009, -0.13663875]], shape=(128, 128), dtype=float32),\n",
       " array([-0.0154145 , -0.03095399, -0.00077515,  0.0007873 , -0.01930381,\n",
       "        -0.00041311,  0.00991585,  0.01217942, -0.02953691,  0.0549252 ,\n",
       "        -0.03843537, -0.01260192, -0.02042516,  0.0146948 ,  0.01303338,\n",
       "        -0.00952532, -0.00718015, -0.0362392 , -0.02798438, -0.02863177,\n",
       "        -0.03160541,  0.01897279, -0.00967296, -0.02145708,  0.06791946,\n",
       "        -0.02693579, -0.01662911,  0.00405936, -0.028682  ,  0.03190787,\n",
       "        -0.00143986, -0.02320904,  0.02458242,  0.01077696, -0.01887857,\n",
       "         0.01775839,  0.00691228,  0.02695646,  0.01252196, -0.03425392,\n",
       "         0.00090213, -0.03602026, -0.05292721, -0.03715322, -0.00640063,\n",
       "        -0.00898102, -0.00896257,  0.00480821, -0.02900847, -0.01769485,\n",
       "         0.00753978,  0.00367684, -0.03341662,  0.02162206, -0.02558067,\n",
       "         0.01239753,  0.00059418,  0.01991599,  0.04547548, -0.00235268,\n",
       "        -0.03307032, -0.03952172, -0.01100532, -0.02105608,  0.0249515 ,\n",
       "        -0.03129389, -0.02539723, -0.04019883, -0.00716002,  0.00167736,\n",
       "        -0.02440433,  0.0123395 ,  0.01389267,  0.01436823, -0.0239605 ,\n",
       "        -0.02283685,  0.00951389, -0.02864767, -0.00283991,  0.01582212,\n",
       "        -0.01276036, -0.01727766, -0.0280408 , -0.02984751,  0.01159765,\n",
       "        -0.02804538,  0.01396986, -0.03612951, -0.0219824 , -0.0432395 ,\n",
       "         0.00657444, -0.02392294,  0.00746075,  0.00152888, -0.01306305,\n",
       "        -0.00343038, -0.02789715, -0.00012762, -0.00788179, -0.02328236,\n",
       "         0.00051732, -0.04003138, -0.00097471,  0.01477978, -0.02493323,\n",
       "         0.0051741 , -0.01019074,  0.01126379,  0.02146243, -0.04330877,\n",
       "        -0.03555489, -0.02680195,  0.01877744, -0.03415996, -0.01120778,\n",
       "        -0.02083562,  0.01112338, -0.0280175 ,  0.0261781 ,  0.02068396,\n",
       "         0.01958141, -0.01717483, -0.03567811, -0.01259398, -0.00781204,\n",
       "        -0.03435346, -0.04323944,  0.01222146], dtype=float32),\n",
       " array([[-0.00320178],\n",
       "        [-0.10486673],\n",
       "        [-0.18764672],\n",
       "        [ 0.08334974],\n",
       "        [ 0.2508982 ],\n",
       "        [ 0.00396907],\n",
       "        [ 0.19700716],\n",
       "        [-0.00716838],\n",
       "        [ 0.17095046],\n",
       "        [-0.19544105],\n",
       "        [ 0.10986804],\n",
       "        [-0.11303859],\n",
       "        [-0.09290656],\n",
       "        [ 0.13544165],\n",
       "        [ 0.06426281],\n",
       "        [-0.38002548],\n",
       "        [-0.34181684],\n",
       "        [-0.11529044],\n",
       "        [ 0.06947041],\n",
       "        [-0.07977639],\n",
       "        [ 0.22106886],\n",
       "        [-0.0709876 ],\n",
       "        [-0.18253973],\n",
       "        [ 0.01493443],\n",
       "        [ 0.458056  ],\n",
       "        [ 0.22229828],\n",
       "        [-0.16720383],\n",
       "        [-0.14471443],\n",
       "        [ 0.07384574],\n",
       "        [-0.2652848 ],\n",
       "        [ 0.08822405],\n",
       "        [ 0.17980403],\n",
       "        [-0.06014842],\n",
       "        [-0.27876016],\n",
       "        [-0.17480984],\n",
       "        [ 0.23442462],\n",
       "        [ 0.50994277],\n",
       "        [-0.05453941],\n",
       "        [-0.28355873],\n",
       "        [-0.00215117],\n",
       "        [ 0.19614904],\n",
       "        [ 0.20416062],\n",
       "        [ 0.00757722],\n",
       "        [-0.0075298 ],\n",
       "        [-0.24975057],\n",
       "        [ 0.16940792],\n",
       "        [-0.00744163],\n",
       "        [ 0.15463787],\n",
       "        [ 0.03960038],\n",
       "        [-0.17958304],\n",
       "        [-0.05510769],\n",
       "        [ 0.10056026],\n",
       "        [-0.12347114],\n",
       "        [-0.21700315],\n",
       "        [ 0.16132656],\n",
       "        [ 0.12763412],\n",
       "        [ 0.10919628],\n",
       "        [ 0.3757683 ],\n",
       "        [-0.2744951 ],\n",
       "        [ 0.01137503],\n",
       "        [ 0.2129526 ],\n",
       "        [ 0.07833122],\n",
       "        [ 0.09650696],\n",
       "        [-0.04778865],\n",
       "        [-0.12904619],\n",
       "        [-0.30156615],\n",
       "        [ 0.21309586],\n",
       "        [ 0.06981591],\n",
       "        [ 0.0643002 ],\n",
       "        [ 0.1765102 ],\n",
       "        [ 0.18372819],\n",
       "        [-0.1697452 ],\n",
       "        [ 0.04940286],\n",
       "        [-0.04232313],\n",
       "        [ 0.15674287],\n",
       "        [ 0.02086219],\n",
       "        [ 0.10164806],\n",
       "        [ 0.07497951],\n",
       "        [ 0.12173043],\n",
       "        [ 0.2726029 ],\n",
       "        [-0.00553081],\n",
       "        [-0.04486503],\n",
       "        [-0.2236299 ],\n",
       "        [ 0.23492834],\n",
       "        [-0.120161  ],\n",
       "        [ 0.2084126 ],\n",
       "        [ 0.17145686],\n",
       "        [ 0.00345576],\n",
       "        [ 0.17650627],\n",
       "        [-0.08481719],\n",
       "        [ 0.06996994],\n",
       "        [-0.15233801],\n",
       "        [ 0.06444059],\n",
       "        [ 0.03299272],\n",
       "        [-0.04928069],\n",
       "        [-0.00500454],\n",
       "        [ 0.15760702],\n",
       "        [ 0.13029414],\n",
       "        [ 0.02896703],\n",
       "        [ 0.04525923],\n",
       "        [ 0.07361458],\n",
       "        [ 0.71062356],\n",
       "        [-0.08872166],\n",
       "        [-0.12291738],\n",
       "        [-0.1436551 ],\n",
       "        [-0.02781144],\n",
       "        [ 0.11364746],\n",
       "        [-0.1582349 ],\n",
       "        [-0.16355647],\n",
       "        [ 0.11167196],\n",
       "        [-0.13052765],\n",
       "        [ 0.26141393],\n",
       "        [-0.2901344 ],\n",
       "        [ 0.21568811],\n",
       "        [-0.12497377],\n",
       "        [-0.15542667],\n",
       "        [-0.23866384],\n",
       "        [-0.06144254],\n",
       "        [-0.20344397],\n",
       "        [-0.25215837],\n",
       "        [ 0.10492691],\n",
       "        [-0.45283532],\n",
       "        [ 0.08318184],\n",
       "        [-0.8495558 ],\n",
       "        [ 0.21842022],\n",
       "        [-0.00403985],\n",
       "        [ 0.03842148],\n",
       "        [-0.00123011]], dtype=float32),\n",
       " array([0.7259478], dtype=float32)]"
      ]
     },
     "execution_count": 28,
     "metadata": {},
     "output_type": "execute_result"
    }
   ],
   "source": [
    "model.get_weights()"
   ]
  },
  {
   "cell_type": "code",
   "execution_count": 29,
   "id": "49e6d3da",
   "metadata": {},
   "outputs": [],
   "source": [
    "# Helper Functions\n",
    "# Function to decoder reviews\n",
    "def decode_review(encoded_review):\n",
    "    return ' '.join([reverse_word_index.get(i-1,'?') for i in encoded_review])\n",
    "\n",
    "# Function to preprocess user input \n",
    "\n",
    "def preprocess_text(text):\n",
    "    words = text.lower().split()\n",
    "    encoded_review = [word_index.get(word, 2) + 3 for word in words]\n",
    "    padded_review = sequence.pad_sequences([encoded_review], maxlen=500)\n",
    "    return padded_review"
   ]
  },
  {
   "cell_type": "code",
   "execution_count": 30,
   "id": "275d7bed",
   "metadata": {},
   "outputs": [],
   "source": [
    "# Prediction function \n",
    "\n",
    "def predict_sentiment(review):\n",
    "    preprocessed_input=preprocess_text(review)\n",
    "\n",
    "    prediction=model.predict(preprocessed_input)\n",
    "\n",
    "    sentiment = 'Positive' if prediction[0][0] > 0.5 else 'Negative'\n",
    "\n",
    "    return sentiment, prediction[0][0]\n",
    "\n"
   ]
  },
  {
   "cell_type": "code",
   "execution_count": 31,
   "id": "088b388b",
   "metadata": {},
   "outputs": [
    {
     "name": "stdout",
     "output_type": "stream",
     "text": [
      "\u001b[1m1/1\u001b[0m \u001b[32m━━━━━━━━━━━━━━━━━━━━\u001b[0m\u001b[37m\u001b[0m \u001b[1m0s\u001b[0m 161ms/step\n",
      "Review: The movie is very good\n",
      "Sentiment Negative\n",
      "Prediction Score: 1.5394627239651015e-10\n"
     ]
    }
   ],
   "source": [
    "# User imput and prediction \n",
    "# Example review for prediction \n",
    "example_review = \"The movie is very good\"\n",
    "\n",
    "sentiment, score = predict_sentiment(example_review)\n",
    "\n",
    "print(f'Review: {example_review}')\n",
    "print(f'Sentiment {sentiment}')\n",
    "print(f'Prediction Score: {score}')\n",
    "\n"
   ]
  },
  {
   "cell_type": "code",
   "execution_count": null,
   "id": "f49a6f1e",
   "metadata": {},
   "outputs": [],
   "source": []
  },
  {
   "cell_type": "code",
   "execution_count": null,
   "id": "9bee612f",
   "metadata": {},
   "outputs": [],
   "source": []
  },
  {
   "cell_type": "code",
   "execution_count": null,
   "id": "0f9c4431",
   "metadata": {},
   "outputs": [],
   "source": []
  }
 ],
 "metadata": {
  "kernelspec": {
   "display_name": "Python 3",
   "language": "python",
   "name": "python3"
  },
  "language_info": {
   "codemirror_mode": {
    "name": "ipython",
    "version": 3
   },
   "file_extension": ".py",
   "mimetype": "text/x-python",
   "name": "python",
   "nbconvert_exporter": "python",
   "pygments_lexer": "ipython3",
   "version": "3.11.0"
  }
 },
 "nbformat": 4,
 "nbformat_minor": 5
}
