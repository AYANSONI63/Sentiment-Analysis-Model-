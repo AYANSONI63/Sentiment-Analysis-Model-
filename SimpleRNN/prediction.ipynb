{
 "cells": [
  {
   "cell_type": "code",
   "execution_count": 2,
   "id": "1217a830",
   "metadata": {},
   "outputs": [],
   "source": [
    "# Import Libraries and Load the model \n",
    "\n",
    "import numpy as np \n",
    "import tensorflow as tf\n",
    "\n",
    "from tensorflow.keras.datasets import imdb\n",
    "from tensorflow.keras.preprocessing import sequence\n",
    "from tensorflow.keras.models import load_model"
   ]
  },
  {
   "cell_type": "code",
   "execution_count": 3,
   "id": "22f37b6e",
   "metadata": {},
   "outputs": [],
   "source": [
    "# Loas the IMDB datasets word index \n",
    "word_index = imdb.get_word_index()\n",
    "reverse_word_index = {value: key for key, value in word_index.items()}"
   ]
  },
  {
   "cell_type": "code",
   "execution_count": 4,
   "id": "d8b66cb4",
   "metadata": {},
   "outputs": [
    {
     "name": "stderr",
     "output_type": "stream",
     "text": [
      "WARNING:absl:Compiled the loaded model, but the compiled metrics have yet to be built. `model.compile_metrics` will be empty until you train or evaluate the model.\n"
     ]
    },
    {
     "data": {
      "text/html": [
       "<pre style=\"white-space:pre;overflow-x:auto;line-height:normal;font-family:Menlo,'DejaVu Sans Mono',consolas,'Courier New',monospace\"><span style=\"font-weight: bold\">Model: \"sequential_1\"</span>\n",
       "</pre>\n"
      ],
      "text/plain": [
       "\u001b[1mModel: \"sequential_1\"\u001b[0m\n"
      ]
     },
     "metadata": {},
     "output_type": "display_data"
    },
    {
     "data": {
      "text/html": [
       "<pre style=\"white-space:pre;overflow-x:auto;line-height:normal;font-family:Menlo,'DejaVu Sans Mono',consolas,'Courier New',monospace\">┏━━━━━━━━━━━━━━━━━━━━━━━━━━━━━━━━━┳━━━━━━━━━━━━━━━━━━━━━━━━┳━━━━━━━━━━━━━━━┓\n",
       "┃<span style=\"font-weight: bold\"> Layer (type)                    </span>┃<span style=\"font-weight: bold\"> Output Shape           </span>┃<span style=\"font-weight: bold\">       Param # </span>┃\n",
       "┡━━━━━━━━━━━━━━━━━━━━━━━━━━━━━━━━━╇━━━━━━━━━━━━━━━━━━━━━━━━╇━━━━━━━━━━━━━━━┩\n",
       "│ embedding_1 (<span style=\"color: #0087ff; text-decoration-color: #0087ff\">Embedding</span>)         │ (<span style=\"color: #00af00; text-decoration-color: #00af00\">32</span>, <span style=\"color: #00af00; text-decoration-color: #00af00\">500</span>, <span style=\"color: #00af00; text-decoration-color: #00af00\">128</span>)         │     <span style=\"color: #00af00; text-decoration-color: #00af00\">1,280,000</span> │\n",
       "├─────────────────────────────────┼────────────────────────┼───────────────┤\n",
       "│ simple_rnn_1 (<span style=\"color: #0087ff; text-decoration-color: #0087ff\">SimpleRNN</span>)        │ (<span style=\"color: #00af00; text-decoration-color: #00af00\">32</span>, <span style=\"color: #00af00; text-decoration-color: #00af00\">128</span>)              │        <span style=\"color: #00af00; text-decoration-color: #00af00\">32,896</span> │\n",
       "├─────────────────────────────────┼────────────────────────┼───────────────┤\n",
       "│ dense_1 (<span style=\"color: #0087ff; text-decoration-color: #0087ff\">Dense</span>)                 │ (<span style=\"color: #00af00; text-decoration-color: #00af00\">32</span>, <span style=\"color: #00af00; text-decoration-color: #00af00\">1</span>)                │           <span style=\"color: #00af00; text-decoration-color: #00af00\">129</span> │\n",
       "└─────────────────────────────────┴────────────────────────┴───────────────┘\n",
       "</pre>\n"
      ],
      "text/plain": [
       "┏━━━━━━━━━━━━━━━━━━━━━━━━━━━━━━━━━┳━━━━━━━━━━━━━━━━━━━━━━━━┳━━━━━━━━━━━━━━━┓\n",
       "┃\u001b[1m \u001b[0m\u001b[1mLayer (type)                   \u001b[0m\u001b[1m \u001b[0m┃\u001b[1m \u001b[0m\u001b[1mOutput Shape          \u001b[0m\u001b[1m \u001b[0m┃\u001b[1m \u001b[0m\u001b[1m      Param #\u001b[0m\u001b[1m \u001b[0m┃\n",
       "┡━━━━━━━━━━━━━━━━━━━━━━━━━━━━━━━━━╇━━━━━━━━━━━━━━━━━━━━━━━━╇━━━━━━━━━━━━━━━┩\n",
       "│ embedding_1 (\u001b[38;5;33mEmbedding\u001b[0m)         │ (\u001b[38;5;34m32\u001b[0m, \u001b[38;5;34m500\u001b[0m, \u001b[38;5;34m128\u001b[0m)         │     \u001b[38;5;34m1,280,000\u001b[0m │\n",
       "├─────────────────────────────────┼────────────────────────┼───────────────┤\n",
       "│ simple_rnn_1 (\u001b[38;5;33mSimpleRNN\u001b[0m)        │ (\u001b[38;5;34m32\u001b[0m, \u001b[38;5;34m128\u001b[0m)              │        \u001b[38;5;34m32,896\u001b[0m │\n",
       "├─────────────────────────────────┼────────────────────────┼───────────────┤\n",
       "│ dense_1 (\u001b[38;5;33mDense\u001b[0m)                 │ (\u001b[38;5;34m32\u001b[0m, \u001b[38;5;34m1\u001b[0m)                │           \u001b[38;5;34m129\u001b[0m │\n",
       "└─────────────────────────────────┴────────────────────────┴───────────────┘\n"
      ]
     },
     "metadata": {},
     "output_type": "display_data"
    },
    {
     "data": {
      "text/html": [
       "<pre style=\"white-space:pre;overflow-x:auto;line-height:normal;font-family:Menlo,'DejaVu Sans Mono',consolas,'Courier New',monospace\"><span style=\"font-weight: bold\"> Total params: </span><span style=\"color: #00af00; text-decoration-color: #00af00\">1,313,027</span> (5.01 MB)\n",
       "</pre>\n"
      ],
      "text/plain": [
       "\u001b[1m Total params: \u001b[0m\u001b[38;5;34m1,313,027\u001b[0m (5.01 MB)\n"
      ]
     },
     "metadata": {},
     "output_type": "display_data"
    },
    {
     "data": {
      "text/html": [
       "<pre style=\"white-space:pre;overflow-x:auto;line-height:normal;font-family:Menlo,'DejaVu Sans Mono',consolas,'Courier New',monospace\"><span style=\"font-weight: bold\"> Trainable params: </span><span style=\"color: #00af00; text-decoration-color: #00af00\">1,313,025</span> (5.01 MB)\n",
       "</pre>\n"
      ],
      "text/plain": [
       "\u001b[1m Trainable params: \u001b[0m\u001b[38;5;34m1,313,025\u001b[0m (5.01 MB)\n"
      ]
     },
     "metadata": {},
     "output_type": "display_data"
    },
    {
     "data": {
      "text/html": [
       "<pre style=\"white-space:pre;overflow-x:auto;line-height:normal;font-family:Menlo,'DejaVu Sans Mono',consolas,'Courier New',monospace\"><span style=\"font-weight: bold\"> Non-trainable params: </span><span style=\"color: #00af00; text-decoration-color: #00af00\">0</span> (0.00 B)\n",
       "</pre>\n"
      ],
      "text/plain": [
       "\u001b[1m Non-trainable params: \u001b[0m\u001b[38;5;34m0\u001b[0m (0.00 B)\n"
      ]
     },
     "metadata": {},
     "output_type": "display_data"
    },
    {
     "data": {
      "text/html": [
       "<pre style=\"white-space:pre;overflow-x:auto;line-height:normal;font-family:Menlo,'DejaVu Sans Mono',consolas,'Courier New',monospace\"><span style=\"font-weight: bold\"> Optimizer params: </span><span style=\"color: #00af00; text-decoration-color: #00af00\">2</span> (12.00 B)\n",
       "</pre>\n"
      ],
      "text/plain": [
       "\u001b[1m Optimizer params: \u001b[0m\u001b[38;5;34m2\u001b[0m (12.00 B)\n"
      ]
     },
     "metadata": {},
     "output_type": "display_data"
    }
   ],
   "source": [
    "# Load the per-tranied model with Relu activation \n",
    "model = load_model('simple_rnn_imdb.h5')\n",
    "model.summary()"
   ]
  },
  {
   "cell_type": "code",
   "execution_count": 5,
   "id": "726a562a",
   "metadata": {},
   "outputs": [
    {
     "data": {
      "text/plain": [
       "[array([[-0.8093771 ,  0.7076284 ,  0.39822134, ...,  0.34407637,\n",
       "         -0.12533979, -0.36311242],\n",
       "        [-0.0165899 ,  0.05921825,  0.0018291 , ..., -0.02440701,\n",
       "         -0.0515908 , -0.02323797],\n",
       "        [-0.00520301,  0.11251322,  0.05412249, ...,  0.10463192,\n",
       "         -0.10222837,  0.02429144],\n",
       "        ...,\n",
       "        [ 0.10299852, -0.04597776,  0.04686578, ..., -0.04191549,\n",
       "         -0.03492696,  0.00840479],\n",
       "        [-0.01035225,  0.00118684, -0.05893132, ..., -0.04104912,\n",
       "          0.0914883 ,  0.06420902],\n",
       "        [ 0.05380367, -0.07917862,  0.03033729, ...,  0.04680617,\n",
       "         -0.04490767, -0.15229324]], shape=(10000, 128), dtype=float32),\n",
       " array([[ 0.01624606, -0.14791994,  0.07130641, ..., -0.03575832,\n",
       "          0.14696427, -0.04346348],\n",
       "        [-0.05840368,  0.13323304, -0.1558318 , ...,  0.0452471 ,\n",
       "         -0.03875928, -0.159515  ],\n",
       "        [-0.01356272, -0.0205239 , -0.07173067, ..., -0.21081278,\n",
       "          0.10527465,  0.03075539],\n",
       "        ...,\n",
       "        [-0.07482942,  0.04570781, -0.12427443, ..., -0.2209637 ,\n",
       "          0.03311405,  0.08849943],\n",
       "        [-0.18003888, -0.0009769 ,  0.09590697, ...,  0.00160452,\n",
       "          0.0789759 , -0.15248974],\n",
       "        [-0.11738172,  0.06592093, -0.15497458, ..., -0.12582724,\n",
       "         -0.1597308 ,  0.1455725 ]], shape=(128, 128), dtype=float32),\n",
       " array([[ 0.03313946,  0.03323057, -0.07329473, ..., -0.11853652,\n",
       "          0.00552566,  0.09889726],\n",
       "        [-0.07591012,  0.05721996, -0.06675586, ..., -0.18630911,\n",
       "          0.04586339, -0.15544507],\n",
       "        [-0.00858582,  0.06779638, -0.08921395, ...,  0.05884032,\n",
       "          0.04154143, -0.128757  ],\n",
       "        ...,\n",
       "        [-0.09995995, -0.08814117,  0.14398988, ..., -0.0639125 ,\n",
       "         -0.12204917,  0.04223038],\n",
       "        [-0.04141891,  0.05762934, -0.0158687 , ..., -0.1583357 ,\n",
       "          0.02222956, -0.01665946],\n",
       "        [ 0.05092761, -0.10683104,  0.04364455, ..., -0.02173256,\n",
       "         -0.00831717, -0.03095069]], shape=(128, 128), dtype=float32),\n",
       " array([-0.00193937,  0.02428501, -0.03853612, -0.05194227, -0.00853535,\n",
       "         0.06078808,  0.05851003, -0.03918565,  0.03071888, -0.00202656,\n",
       "        -0.02180366,  0.0361919 , -0.01049571, -0.04846967, -0.04435801,\n",
       "        -0.04154433,  0.00664095,  0.00717555, -0.02095887, -0.02501146,\n",
       "        -0.02253386, -0.02267617, -0.05169338, -0.0154158 , -0.00564869,\n",
       "         0.00244528, -0.0432739 , -0.00322566, -0.00978095, -0.02466014,\n",
       "        -0.05376057, -0.02420378, -0.02789797, -0.01977127,  0.04321002,\n",
       "        -0.02933105, -0.01296007,  0.02033288, -0.01544179, -0.05643187,\n",
       "        -0.00778499, -0.02229914, -0.02772246, -0.02943484, -0.01437813,\n",
       "        -0.01101107, -0.01488994, -0.03667476,  0.01933501, -0.01802037,\n",
       "         0.02143817,  0.00398696, -0.04229968, -0.03490671,  0.02100295,\n",
       "        -0.00601592, -0.02012794, -0.07302207, -0.0264194 , -0.03504391,\n",
       "        -0.01945859, -0.03403782, -0.04285663, -0.04949448, -0.04656116,\n",
       "         0.01477841,  0.00386905, -0.02355574, -0.03721314, -0.04035999,\n",
       "         0.00364296, -0.05675892, -0.02930558,  0.04755822, -0.02925001,\n",
       "         0.00323866,  0.02723361,  0.04751052,  0.01010581, -0.01760092,\n",
       "        -0.02274853, -0.00853413, -0.02506804, -0.02157983,  0.01618887,\n",
       "         0.06511655, -0.00909532, -0.01030971, -0.01230347,  0.00349205,\n",
       "         0.04591661, -0.01095591, -0.04758819, -0.05735053, -0.02154046,\n",
       "        -0.02577057, -0.00282892, -0.04671868, -0.01518114, -0.0308747 ,\n",
       "         0.01339467, -0.01615847, -0.02712591, -0.0136661 , -0.05557563,\n",
       "        -0.01564758, -0.02542725, -0.01029834, -0.01340412, -0.03408947,\n",
       "        -0.00782678, -0.04211346, -0.01499854, -0.02024715, -0.00753382,\n",
       "        -0.0158612 , -0.01527857, -0.0525489 , -0.0076934 , -0.03458083,\n",
       "         0.04247249,  0.0271771 , -0.03104852, -0.03318286,  0.00321987,\n",
       "        -0.02712514, -0.01928045,  0.00478923], dtype=float32),\n",
       " array([[ 0.15942173],\n",
       "        [-0.00491804],\n",
       "        [ 0.1502839 ],\n",
       "        [-0.08853596],\n",
       "        [ 0.05587891],\n",
       "        [ 0.01899091],\n",
       "        [ 0.20956653],\n",
       "        [-0.30203187],\n",
       "        [ 0.16739447],\n",
       "        [-0.08662193],\n",
       "        [-0.04930104],\n",
       "        [ 0.10251427],\n",
       "        [ 0.06051312],\n",
       "        [-0.11275291],\n",
       "        [-0.01325774],\n",
       "        [-0.15130603],\n",
       "        [ 0.05032011],\n",
       "        [ 0.16045772],\n",
       "        [ 0.00886624],\n",
       "        [-0.888338  ],\n",
       "        [ 0.18962765],\n",
       "        [-0.01983604],\n",
       "        [-0.00679602],\n",
       "        [ 0.19405375],\n",
       "        [ 0.01528835],\n",
       "        [-0.1485658 ],\n",
       "        [ 0.17473492],\n",
       "        [ 0.18335347],\n",
       "        [ 0.06596409],\n",
       "        [-0.03568774],\n",
       "        [-0.12247083],\n",
       "        [ 0.1769051 ],\n",
       "        [-0.27972338],\n",
       "        [ 0.23987694],\n",
       "        [ 0.2369318 ],\n",
       "        [-0.19660476],\n",
       "        [ 0.1234106 ],\n",
       "        [-0.14111772],\n",
       "        [ 0.12618434],\n",
       "        [ 0.21284099],\n",
       "        [-0.14050376],\n",
       "        [-0.04328118],\n",
       "        [-0.399926  ],\n",
       "        [-0.55634433],\n",
       "        [-0.062706  ],\n",
       "        [ 0.12825616],\n",
       "        [ 0.32184342],\n",
       "        [ 0.04139362],\n",
       "        [ 0.22470003],\n",
       "        [-0.09746464],\n",
       "        [ 0.16600446],\n",
       "        [ 0.05667499],\n",
       "        [-0.06357247],\n",
       "        [ 0.10618206],\n",
       "        [ 0.17378835],\n",
       "        [-0.11315114],\n",
       "        [ 0.12369122],\n",
       "        [ 0.00526674],\n",
       "        [ 0.06307033],\n",
       "        [-0.07627624],\n",
       "        [ 0.14507928],\n",
       "        [ 0.14823763],\n",
       "        [ 0.19792911],\n",
       "        [ 0.19547935],\n",
       "        [ 0.10460869],\n",
       "        [ 0.00510346],\n",
       "        [-0.5253676 ],\n",
       "        [-0.08144721],\n",
       "        [ 0.08675183],\n",
       "        [ 0.19915664],\n",
       "        [-0.10294704],\n",
       "        [-0.05558747],\n",
       "        [-0.09233806],\n",
       "        [ 0.19444486],\n",
       "        [ 0.15581232],\n",
       "        [-0.15315582],\n",
       "        [-0.08187917],\n",
       "        [ 0.04882996],\n",
       "        [ 0.22136165],\n",
       "        [ 0.07610936],\n",
       "        [-0.5766198 ],\n",
       "        [ 0.14182411],\n",
       "        [-0.14442097],\n",
       "        [-0.08671711],\n",
       "        [ 0.12747675],\n",
       "        [ 0.04634997],\n",
       "        [-0.06917866],\n",
       "        [ 0.04861064],\n",
       "        [ 0.02332976],\n",
       "        [ 0.24324812],\n",
       "        [ 0.19519676],\n",
       "        [-0.09336428],\n",
       "        [ 0.04000342],\n",
       "        [-0.12518711],\n",
       "        [-0.09176942],\n",
       "        [ 0.02186976],\n",
       "        [-0.01795301],\n",
       "        [-0.0193104 ],\n",
       "        [ 0.18967971],\n",
       "        [-0.45553625],\n",
       "        [ 0.01175763],\n",
       "        [ 0.04155049],\n",
       "        [ 0.20976236],\n",
       "        [ 0.1905523 ],\n",
       "        [-0.23721096],\n",
       "        [-0.1915604 ],\n",
       "        [-0.03402052],\n",
       "        [ 0.1944535 ],\n",
       "        [ 0.10575375],\n",
       "        [ 0.2313356 ],\n",
       "        [ 0.0747835 ],\n",
       "        [ 0.03180119],\n",
       "        [-0.16209589],\n",
       "        [-0.0101496 ],\n",
       "        [ 0.30266494],\n",
       "        [-0.09416074],\n",
       "        [ 0.00796856],\n",
       "        [-0.21663216],\n",
       "        [-0.0483928 ],\n",
       "        [-0.12428993],\n",
       "        [ 0.18040085],\n",
       "        [ 0.2656062 ],\n",
       "        [ 0.14551   ],\n",
       "        [-0.07054312],\n",
       "        [ 0.10384636],\n",
       "        [-0.10157658],\n",
       "        [-0.15930171],\n",
       "        [ 0.19347873]], dtype=float32),\n",
       " array([0.04468612], dtype=float32)]"
      ]
     },
     "execution_count": 5,
     "metadata": {},
     "output_type": "execute_result"
    }
   ],
   "source": [
    "model.get_weights()"
   ]
  },
  {
   "cell_type": "code",
   "execution_count": 6,
   "id": "49e6d3da",
   "metadata": {},
   "outputs": [],
   "source": [
    "# Helper Functions\n",
    "# Function to decoder reviews\n",
    "def decode_review(encoded_review):\n",
    "    return ' '.join([reverse_word_index.get(i-1,'?') for i in encoded_review])\n",
    "\n",
    "# Function to preprocess user input \n",
    "\n",
    "def preprocess_text(text):\n",
    "    words = text.lower().split()\n",
    "    encoded_review = [word_index.get(word, 2) + 3 for word in words]\n",
    "    padded_review = sequence.pad_sequences([encoded_review], maxlen=500)\n",
    "    return padded_review"
   ]
  },
  {
   "cell_type": "code",
   "execution_count": 7,
   "id": "275d7bed",
   "metadata": {},
   "outputs": [],
   "source": [
    "# Prediction function \n",
    "\n",
    "def predict_sentiment(review):\n",
    "    preprocessed_input=preprocess_text(review)\n",
    "\n",
    "    prediction=model.predict(preprocessed_input)\n",
    "\n",
    "    sentiment = 'Positive' if prediction[0][0] > 0.5 else 'Negative'\n",
    "\n",
    "    return sentiment, prediction[0][0]\n",
    "\n"
   ]
  },
  {
   "cell_type": "code",
   "execution_count": 8,
   "id": "088b388b",
   "metadata": {},
   "outputs": [
    {
     "name": "stdout",
     "output_type": "stream",
     "text": [
      "\u001b[1m1/1\u001b[0m \u001b[32m━━━━━━━━━━━━━━━━━━━━\u001b[0m\u001b[37m\u001b[0m \u001b[1m0s\u001b[0m 296ms/step\n",
      "Review: This movie was fantastic! the acting was great and the plot was thrilling\n",
      "Sentiment Positive\n",
      "Prediction Score: 0.9999791383743286\n"
     ]
    }
   ],
   "source": [
    "# User imput and prediction \n",
    "# Example review for prediction \n",
    "example_review = \"This movie was fantastic! the acting was great and the plot was thrilling\"\n",
    "\n",
    "sentiment, score = predict_sentiment(example_review)\n",
    "\n",
    "print(f'Review: {example_review}')\n",
    "print(f'Sentiment {sentiment}')\n",
    "print(f'Prediction Score: {score}')\n",
    "\n"
   ]
  },
  {
   "cell_type": "code",
   "execution_count": null,
   "id": "f49a6f1e",
   "metadata": {},
   "outputs": [],
   "source": []
  },
  {
   "cell_type": "code",
   "execution_count": null,
   "id": "9bee612f",
   "metadata": {},
   "outputs": [],
   "source": []
  },
  {
   "cell_type": "code",
   "execution_count": null,
   "id": "0f9c4431",
   "metadata": {},
   "outputs": [],
   "source": []
  }
 ],
 "metadata": {
  "kernelspec": {
   "display_name": "Python 3",
   "language": "python",
   "name": "python3"
  },
  "language_info": {
   "codemirror_mode": {
    "name": "ipython",
    "version": 3
   },
   "file_extension": ".py",
   "mimetype": "text/x-python",
   "name": "python",
   "nbconvert_exporter": "python",
   "pygments_lexer": "ipython3",
   "version": "3.11.0"
  }
 },
 "nbformat": 4,
 "nbformat_minor": 5
}
