{
 "cells": [
  {
   "cell_type": "code",
   "execution_count": 48,
   "id": "1217a830",
   "metadata": {},
   "outputs": [],
   "source": [
    "# Import Libraries and Load the model \n",
    "\n",
    "import numpy as np \n",
    "import tensorflow as tf\n",
    "\n",
    "from tensorflow.keras.datasets import imdb\n",
    "from tensorflow.keras.preprocessing import sequence\n",
    "from tensorflow.keras.models import load_model"
   ]
  },
  {
   "cell_type": "code",
   "execution_count": 49,
   "id": "22f37b6e",
   "metadata": {},
   "outputs": [],
   "source": [
    "# Loas the IMDB datasets word index \n",
    "word_index = imdb.get_word_index()\n",
    "reverse_word_index = {value: key for key, value in word_index.items()}"
   ]
  },
  {
   "cell_type": "code",
   "execution_count": 50,
   "id": "d8b66cb4",
   "metadata": {},
   "outputs": [
    {
     "name": "stderr",
     "output_type": "stream",
     "text": [
      "WARNING:absl:Compiled the loaded model, but the compiled metrics have yet to be built. `model.compile_metrics` will be empty until you train or evaluate the model.\n"
     ]
    },
    {
     "data": {
      "text/html": [
       "<pre style=\"white-space:pre;overflow-x:auto;line-height:normal;font-family:Menlo,'DejaVu Sans Mono',consolas,'Courier New',monospace\"><span style=\"font-weight: bold\">Model: \"sequential_3\"</span>\n",
       "</pre>\n"
      ],
      "text/plain": [
       "\u001b[1mModel: \"sequential_3\"\u001b[0m\n"
      ]
     },
     "metadata": {},
     "output_type": "display_data"
    },
    {
     "data": {
      "text/html": [
       "<pre style=\"white-space:pre;overflow-x:auto;line-height:normal;font-family:Menlo,'DejaVu Sans Mono',consolas,'Courier New',monospace\">┏━━━━━━━━━━━━━━━━━━━━━━━━━━━━━━━━━┳━━━━━━━━━━━━━━━━━━━━━━━━┳━━━━━━━━━━━━━━━┓\n",
       "┃<span style=\"font-weight: bold\"> Layer (type)                    </span>┃<span style=\"font-weight: bold\"> Output Shape           </span>┃<span style=\"font-weight: bold\">       Param # </span>┃\n",
       "┡━━━━━━━━━━━━━━━━━━━━━━━━━━━━━━━━━╇━━━━━━━━━━━━━━━━━━━━━━━━╇━━━━━━━━━━━━━━━┩\n",
       "│ embedding_3 (<span style=\"color: #0087ff; text-decoration-color: #0087ff\">Embedding</span>)         │ (<span style=\"color: #00af00; text-decoration-color: #00af00\">32</span>, <span style=\"color: #00af00; text-decoration-color: #00af00\">500</span>, <span style=\"color: #00af00; text-decoration-color: #00af00\">128</span>)         │     <span style=\"color: #00af00; text-decoration-color: #00af00\">1,280,000</span> │\n",
       "├─────────────────────────────────┼────────────────────────┼───────────────┤\n",
       "│ simple_rnn_3 (<span style=\"color: #0087ff; text-decoration-color: #0087ff\">SimpleRNN</span>)        │ (<span style=\"color: #00af00; text-decoration-color: #00af00\">32</span>, <span style=\"color: #00af00; text-decoration-color: #00af00\">128</span>)              │        <span style=\"color: #00af00; text-decoration-color: #00af00\">32,896</span> │\n",
       "├─────────────────────────────────┼────────────────────────┼───────────────┤\n",
       "│ dense_3 (<span style=\"color: #0087ff; text-decoration-color: #0087ff\">Dense</span>)                 │ (<span style=\"color: #00af00; text-decoration-color: #00af00\">32</span>, <span style=\"color: #00af00; text-decoration-color: #00af00\">1</span>)                │           <span style=\"color: #00af00; text-decoration-color: #00af00\">129</span> │\n",
       "└─────────────────────────────────┴────────────────────────┴───────────────┘\n",
       "</pre>\n"
      ],
      "text/plain": [
       "┏━━━━━━━━━━━━━━━━━━━━━━━━━━━━━━━━━┳━━━━━━━━━━━━━━━━━━━━━━━━┳━━━━━━━━━━━━━━━┓\n",
       "┃\u001b[1m \u001b[0m\u001b[1mLayer (type)                   \u001b[0m\u001b[1m \u001b[0m┃\u001b[1m \u001b[0m\u001b[1mOutput Shape          \u001b[0m\u001b[1m \u001b[0m┃\u001b[1m \u001b[0m\u001b[1m      Param #\u001b[0m\u001b[1m \u001b[0m┃\n",
       "┡━━━━━━━━━━━━━━━━━━━━━━━━━━━━━━━━━╇━━━━━━━━━━━━━━━━━━━━━━━━╇━━━━━━━━━━━━━━━┩\n",
       "│ embedding_3 (\u001b[38;5;33mEmbedding\u001b[0m)         │ (\u001b[38;5;34m32\u001b[0m, \u001b[38;5;34m500\u001b[0m, \u001b[38;5;34m128\u001b[0m)         │     \u001b[38;5;34m1,280,000\u001b[0m │\n",
       "├─────────────────────────────────┼────────────────────────┼───────────────┤\n",
       "│ simple_rnn_3 (\u001b[38;5;33mSimpleRNN\u001b[0m)        │ (\u001b[38;5;34m32\u001b[0m, \u001b[38;5;34m128\u001b[0m)              │        \u001b[38;5;34m32,896\u001b[0m │\n",
       "├─────────────────────────────────┼────────────────────────┼───────────────┤\n",
       "│ dense_3 (\u001b[38;5;33mDense\u001b[0m)                 │ (\u001b[38;5;34m32\u001b[0m, \u001b[38;5;34m1\u001b[0m)                │           \u001b[38;5;34m129\u001b[0m │\n",
       "└─────────────────────────────────┴────────────────────────┴───────────────┘\n"
      ]
     },
     "metadata": {},
     "output_type": "display_data"
    },
    {
     "data": {
      "text/html": [
       "<pre style=\"white-space:pre;overflow-x:auto;line-height:normal;font-family:Menlo,'DejaVu Sans Mono',consolas,'Courier New',monospace\"><span style=\"font-weight: bold\"> Total params: </span><span style=\"color: #00af00; text-decoration-color: #00af00\">1,313,027</span> (5.01 MB)\n",
       "</pre>\n"
      ],
      "text/plain": [
       "\u001b[1m Total params: \u001b[0m\u001b[38;5;34m1,313,027\u001b[0m (5.01 MB)\n"
      ]
     },
     "metadata": {},
     "output_type": "display_data"
    },
    {
     "data": {
      "text/html": [
       "<pre style=\"white-space:pre;overflow-x:auto;line-height:normal;font-family:Menlo,'DejaVu Sans Mono',consolas,'Courier New',monospace\"><span style=\"font-weight: bold\"> Trainable params: </span><span style=\"color: #00af00; text-decoration-color: #00af00\">1,313,025</span> (5.01 MB)\n",
       "</pre>\n"
      ],
      "text/plain": [
       "\u001b[1m Trainable params: \u001b[0m\u001b[38;5;34m1,313,025\u001b[0m (5.01 MB)\n"
      ]
     },
     "metadata": {},
     "output_type": "display_data"
    },
    {
     "data": {
      "text/html": [
       "<pre style=\"white-space:pre;overflow-x:auto;line-height:normal;font-family:Menlo,'DejaVu Sans Mono',consolas,'Courier New',monospace\"><span style=\"font-weight: bold\"> Non-trainable params: </span><span style=\"color: #00af00; text-decoration-color: #00af00\">0</span> (0.00 B)\n",
       "</pre>\n"
      ],
      "text/plain": [
       "\u001b[1m Non-trainable params: \u001b[0m\u001b[38;5;34m0\u001b[0m (0.00 B)\n"
      ]
     },
     "metadata": {},
     "output_type": "display_data"
    },
    {
     "data": {
      "text/html": [
       "<pre style=\"white-space:pre;overflow-x:auto;line-height:normal;font-family:Menlo,'DejaVu Sans Mono',consolas,'Courier New',monospace\"><span style=\"font-weight: bold\"> Optimizer params: </span><span style=\"color: #00af00; text-decoration-color: #00af00\">2</span> (12.00 B)\n",
       "</pre>\n"
      ],
      "text/plain": [
       "\u001b[1m Optimizer params: \u001b[0m\u001b[38;5;34m2\u001b[0m (12.00 B)\n"
      ]
     },
     "metadata": {},
     "output_type": "display_data"
    }
   ],
   "source": [
    "# Load the per-tranied model with Relu activation \n",
    "model = load_model('simple_rnn_imdb.h5')\n",
    "model.summary()"
   ]
  },
  {
   "cell_type": "code",
   "execution_count": 51,
   "id": "726a562a",
   "metadata": {},
   "outputs": [
    {
     "data": {
      "text/plain": [
       "[array([[-0.18789904, -0.3404702 ,  0.4835029 , ...,  0.22640951,\n",
       "         -0.45339885,  0.453852  ],\n",
       "        [ 0.01545607, -0.03920568,  0.04439231, ...,  0.00586543,\n",
       "         -0.0716646 ,  0.08206019],\n",
       "        [ 0.12329318, -0.02992778,  0.20212856, ...,  0.02935467,\n",
       "         -0.2701236 ,  0.2618502 ],\n",
       "        ...,\n",
       "        [-0.03153288,  0.02879646, -0.0015651 , ...,  0.00092489,\n",
       "          0.06295886, -0.053998  ],\n",
       "        [-0.12175665,  0.06085178, -0.13709737, ...,  0.09497432,\n",
       "         -0.01823151, -0.13717493],\n",
       "        [-0.02906203, -0.18237916,  0.18838172, ..., -0.1590962 ,\n",
       "         -0.07239421,  0.09730294]], shape=(10000, 128), dtype=float32),\n",
       " array([[ 0.03857698,  0.04235367,  0.04833079, ..., -0.00700168,\n",
       "          0.03944821,  0.11890129],\n",
       "        [ 0.00931115, -0.04222012,  0.05278538, ..., -0.14643724,\n",
       "          0.16439176,  0.04429804],\n",
       "        [-0.05140465,  0.0323856 , -0.10607385, ...,  0.06897059,\n",
       "         -0.1724882 , -0.15947697],\n",
       "        ...,\n",
       "        [-0.00994995, -0.10510881, -0.04252947, ...,  0.14069344,\n",
       "          0.1381776 , -0.01688664],\n",
       "        [ 0.01762167,  0.20407775,  0.11099855, ...,  0.07859878,\n",
       "          0.22189547, -0.06261014],\n",
       "        [-0.12732603,  0.09189432, -0.10481942, ...,  0.01858181,\n",
       "          0.01524841,  0.04431722]], shape=(128, 128), dtype=float32),\n",
       " array([[-0.12233634, -0.08338703, -0.15801536, ..., -0.196642  ,\n",
       "          0.01109556, -0.17342548],\n",
       "        [-0.00980344, -0.05522588, -0.10637621, ..., -0.02082368,\n",
       "         -0.0076558 , -0.01460493],\n",
       "        [-0.17888199,  0.07127501, -0.03932466, ...,  0.02884309,\n",
       "         -0.05191775, -0.01848267],\n",
       "        ...,\n",
       "        [ 0.02729868, -0.06443663, -0.06449182, ...,  0.02794823,\n",
       "         -0.10494041,  0.11044234],\n",
       "        [-0.10280688,  0.09418163, -0.11104593, ..., -0.15458483,\n",
       "         -0.08453709,  0.09284598],\n",
       "        [-0.12708338,  0.08288655, -0.09069245, ..., -0.02552488,\n",
       "          0.08717401,  0.01925451]], shape=(128, 128), dtype=float32),\n",
       " array([-0.04437558,  0.00666061, -0.02748798, -0.03169091, -0.03700638,\n",
       "         0.04025603, -0.03722939,  0.02612258, -0.01367826, -0.02408053,\n",
       "        -0.02878064, -0.02455772,  0.07818571,  0.0483994 , -0.01410859,\n",
       "        -0.04064852, -0.04271029, -0.0034319 ,  0.02461004,  0.03211014,\n",
       "        -0.05384962, -0.01558493, -0.02194637,  0.01882567, -0.03734515,\n",
       "        -0.0515652 , -0.02670112,  0.03917982,  0.05313493,  0.0344852 ,\n",
       "         0.03534051,  0.01888387, -0.00691675,  0.06222537, -0.02848011,\n",
       "        -0.04923505, -0.04199005, -0.05878093, -0.07201187, -0.03439388,\n",
       "        -0.02598426, -0.08798651, -0.06142854,  0.01975672, -0.00323576,\n",
       "        -0.0577487 , -0.00735428, -0.00677041,  0.03940115, -0.0711588 ,\n",
       "        -0.00323791, -0.02632708, -0.06046307, -0.02499732,  0.0180687 ,\n",
       "        -0.03582817, -0.02376954, -0.04904244, -0.00511191,  0.00708265,\n",
       "         0.04479317, -0.03539111,  0.00041894, -0.04569992,  0.04805754,\n",
       "        -0.03920669, -0.01595565,  0.02543006, -0.00482947, -0.05159746,\n",
       "        -0.02524832, -0.0244569 , -0.02263889, -0.0618298 , -0.06840003,\n",
       "         0.00412712,  0.04544905,  0.04090735, -0.04293893, -0.06692343,\n",
       "        -0.03236374, -0.00419118, -0.0398754 , -0.02701041, -0.03509346,\n",
       "         0.04578196, -0.02171835, -0.02989374,  0.02631   , -0.03116391,\n",
       "        -0.04448299, -0.03604196,  0.0061341 , -0.04407169, -0.01380459,\n",
       "         0.00550927,  0.02026363, -0.03368717, -0.01847785,  0.02245345,\n",
       "         0.03738708,  0.01436306, -0.0270881 ,  0.00857584, -0.08272354,\n",
       "         0.01490164, -0.00574356,  0.06107483, -0.05216524, -0.03883848,\n",
       "         0.01820001, -0.0333515 , -0.04047882,  0.0083663 ,  0.03835274,\n",
       "        -0.03754775,  0.01954708,  0.0463035 , -0.03072535, -0.01460754,\n",
       "         0.0009603 , -0.01763102, -0.05799744,  0.00213407, -0.02393775,\n",
       "         0.05510385, -0.04836982, -0.05853267], dtype=float32),\n",
       " array([[-0.165803  ],\n",
       "        [-0.01280623],\n",
       "        [ 0.12748751],\n",
       "        [-0.05454706],\n",
       "        [-0.20397341],\n",
       "        [ 0.17294   ],\n",
       "        [-0.35876077],\n",
       "        [ 0.04952575],\n",
       "        [ 0.05414614],\n",
       "        [ 0.2052056 ],\n",
       "        [ 0.2703418 ],\n",
       "        [-0.13509326],\n",
       "        [ 0.56860936],\n",
       "        [ 0.07168168],\n",
       "        [-0.07742426],\n",
       "        [ 0.03574002],\n",
       "        [-0.07808106],\n",
       "        [ 0.02658419],\n",
       "        [ 0.08093102],\n",
       "        [ 0.12333006],\n",
       "        [-0.17596723],\n",
       "        [-0.11713284],\n",
       "        [ 0.15582696],\n",
       "        [-0.20226394],\n",
       "        [ 0.23614976],\n",
       "        [ 0.04414819],\n",
       "        [ 0.09100237],\n",
       "        [-0.0451071 ],\n",
       "        [-0.14582664],\n",
       "        [-0.17166038],\n",
       "        [ 0.10425452],\n",
       "        [ 0.13645981],\n",
       "        [-0.11915835],\n",
       "        [ 0.15213634],\n",
       "        [ 0.06935119],\n",
       "        [-0.14025633],\n",
       "        [-0.19251584],\n",
       "        [-0.12855075],\n",
       "        [-0.1357723 ],\n",
       "        [ 0.16857469],\n",
       "        [ 0.06229747],\n",
       "        [ 0.14198512],\n",
       "        [ 0.19334523],\n",
       "        [-0.36403233],\n",
       "        [ 0.05594607],\n",
       "        [-0.10069308],\n",
       "        [ 0.09504136],\n",
       "        [ 0.26637483],\n",
       "        [-0.10383166],\n",
       "        [-0.15067297],\n",
       "        [ 0.16366366],\n",
       "        [ 0.03117754],\n",
       "        [-0.06368129],\n",
       "        [-0.4644476 ],\n",
       "        [ 0.21417432],\n",
       "        [-0.19214514],\n",
       "        [-0.14477189],\n",
       "        [-0.04721589],\n",
       "        [-0.058832  ],\n",
       "        [-0.03330913],\n",
       "        [ 0.06326383],\n",
       "        [ 0.14206463],\n",
       "        [ 0.14697368],\n",
       "        [ 0.06545291],\n",
       "        [ 0.07744924],\n",
       "        [-0.05612353],\n",
       "        [ 0.23696204],\n",
       "        [-0.14278929],\n",
       "        [-0.28892094],\n",
       "        [ 0.06466825],\n",
       "        [ 0.01731502],\n",
       "        [ 0.02289912],\n",
       "        [-0.01822276],\n",
       "        [ 0.11462621],\n",
       "        [-0.14687377],\n",
       "        [-0.12817669],\n",
       "        [-0.13479228],\n",
       "        [ 0.00153419],\n",
       "        [ 0.10661739],\n",
       "        [-0.03434863],\n",
       "        [ 0.02547381],\n",
       "        [-0.08431365],\n",
       "        [-0.0535547 ],\n",
       "        [-0.01305767],\n",
       "        [ 0.00548665],\n",
       "        [-0.04366932],\n",
       "        [ 0.09436998],\n",
       "        [-0.0031894 ],\n",
       "        [ 0.02105714],\n",
       "        [-0.04676308],\n",
       "        [-0.00640499],\n",
       "        [ 0.20706503],\n",
       "        [-0.24913126],\n",
       "        [ 0.04628546],\n",
       "        [ 0.24215175],\n",
       "        [-0.16250606],\n",
       "        [-0.01939514],\n",
       "        [-0.02777671],\n",
       "        [-0.07705446],\n",
       "        [-0.1643286 ],\n",
       "        [ 0.11025302],\n",
       "        [-0.00094105],\n",
       "        [-0.19756077],\n",
       "        [-0.05057554],\n",
       "        [-0.21608427],\n",
       "        [-0.13188735],\n",
       "        [-0.23061346],\n",
       "        [-0.09078882],\n",
       "        [-0.05752131],\n",
       "        [-0.20539016],\n",
       "        [ 0.28997943],\n",
       "        [ 0.10131127],\n",
       "        [-0.04195644],\n",
       "        [-0.04896481],\n",
       "        [ 0.06081369],\n",
       "        [ 0.04391837],\n",
       "        [-0.1416231 ],\n",
       "        [-0.01323568],\n",
       "        [-0.05341731],\n",
       "        [ 0.03118222],\n",
       "        [-0.20128207],\n",
       "        [-0.19137731],\n",
       "        [-0.05407129],\n",
       "        [-0.02606515],\n",
       "        [ 0.03582672],\n",
       "        [ 0.16529441],\n",
       "        [ 0.03555403],\n",
       "        [-0.21222995]], dtype=float32),\n",
       " array([-2.2182152], dtype=float32)]"
      ]
     },
     "execution_count": 51,
     "metadata": {},
     "output_type": "execute_result"
    }
   ],
   "source": [
    "model.get_weights()"
   ]
  },
  {
   "cell_type": "code",
   "execution_count": 52,
   "id": "49e6d3da",
   "metadata": {},
   "outputs": [],
   "source": [
    "# Helper Functions\n",
    "# Function to decoder reviews\n",
    "def decode_review(encoded_review):\n",
    "    return ' '.join([reverse_word_index.get(i-1,'?') for i in encoded_review])\n",
    "\n",
    "# Function to preprocess user input \n",
    "\n",
    "def preprocess_text(text):\n",
    "    words = text.lower().split()\n",
    "    encoded_review = [word_index.get(word, 2) + 3 for word in words]\n",
    "    padded_review = sequence.pad_sequences([encoded_review], maxlen=500)\n",
    "    return padded_review"
   ]
  },
  {
   "cell_type": "code",
   "execution_count": 53,
   "id": "275d7bed",
   "metadata": {},
   "outputs": [],
   "source": [
    "# Prediction function \n",
    "\n",
    "def predict_sentiment(review):\n",
    "    preprocessed_input=preprocess_text(review)\n",
    "\n",
    "    prediction=model.predict(preprocessed_input)\n",
    "\n",
    "    sentiment = 'Positive' if prediction[0][0] > 0.5 else 'Negative'\n",
    "\n",
    "    return sentiment, prediction[0][0]\n",
    "\n"
   ]
  },
  {
   "cell_type": "code",
   "execution_count": null,
   "id": "088b388b",
   "metadata": {},
   "outputs": [
    {
     "name": "stdout",
     "output_type": "stream",
     "text": [
      "\u001b[1m1/1\u001b[0m \u001b[32m━━━━━━━━━━━━━━━━━━━━\u001b[0m\u001b[37m\u001b[0m \u001b[1m0s\u001b[0m 167ms/step\n",
      "Review: The movie is bad I don't like to watch this movie again\n",
      "Sentiment Positive\n",
      "Prediction Score: 0.8280426859855652\n"
     ]
    }
   ],
   "source": [
    "# User imput and prediction \n",
    "# Example review for prediction \n",
    "example_review = \"\"\n",
    "\n",
    "sentiment, score = predict_sentiment(example_review)\n",
    "\n",
    "print(f'Review: {example_review}')\n",
    "print(f'Sentiment {sentiment}')\n",
    "print(f'Prediction Score: {score}')\n",
    "\n"
   ]
  },
  {
   "cell_type": "code",
   "execution_count": null,
   "id": "f49a6f1e",
   "metadata": {},
   "outputs": [],
   "source": []
  },
  {
   "cell_type": "code",
   "execution_count": null,
   "id": "9bee612f",
   "metadata": {},
   "outputs": [],
   "source": []
  },
  {
   "cell_type": "code",
   "execution_count": null,
   "id": "0f9c4431",
   "metadata": {},
   "outputs": [],
   "source": []
  }
 ],
 "metadata": {
  "kernelspec": {
   "display_name": "Python 3",
   "language": "python",
   "name": "python3"
  },
  "language_info": {
   "codemirror_mode": {
    "name": "ipython",
    "version": 3
   },
   "file_extension": ".py",
   "mimetype": "text/x-python",
   "name": "python",
   "nbconvert_exporter": "python",
   "pygments_lexer": "ipython3",
   "version": "3.11.0"
  }
 },
 "nbformat": 4,
 "nbformat_minor": 5
}
