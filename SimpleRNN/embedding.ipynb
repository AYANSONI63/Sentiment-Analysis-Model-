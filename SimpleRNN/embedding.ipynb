{
 "cells": [
  {
   "cell_type": "code",
   "execution_count": 29,
   "id": "718476f8",
   "metadata": {},
   "outputs": [],
   "source": [
    "from tensorflow.keras.preprocessing.text import one_hot"
   ]
  },
  {
   "cell_type": "code",
   "execution_count": 30,
   "id": "0b8f7b65",
   "metadata": {},
   "outputs": [],
   "source": [
    "# Sentences\n",
    "sent=[ 'the glass of milk',\n",
    "        'the glass of juice',\n",
    "        'the cup of tea',\n",
    "        'I am a good boy',\n",
    "        'I am a good developer',\n",
    "        'understand the meaning of words',\n",
    "        'your videos are good',]"
   ]
  },
  {
   "cell_type": "code",
   "execution_count": 31,
   "id": "77f4dd12",
   "metadata": {},
   "outputs": [
    {
     "data": {
      "text/plain": [
       "['the glass of milk',\n",
       " 'the glass of juice',\n",
       " 'the cup of tea',\n",
       " 'I am a good boy',\n",
       " 'I am a good developer',\n",
       " 'understand the meaning of words',\n",
       " 'your videos are good']"
      ]
     },
     "execution_count": 31,
     "metadata": {},
     "output_type": "execute_result"
    }
   ],
   "source": [
    "sent "
   ]
  },
  {
   "cell_type": "code",
   "execution_count": 32,
   "id": "6510868b",
   "metadata": {},
   "outputs": [],
   "source": [
    "# Define the vocabulary size \n",
    "voc_size=10000"
   ]
  },
  {
   "cell_type": "code",
   "execution_count": 33,
   "id": "ef5b9905",
   "metadata": {},
   "outputs": [
    {
     "data": {
      "text/plain": [
       "[[3381, 3984, 240, 875],\n",
       " [3381, 3984, 240, 4402],\n",
       " [3381, 8992, 240, 6728],\n",
       " [632, 7864, 3273, 3683, 9883],\n",
       " [632, 7864, 3273, 3683, 5912],\n",
       " [7629, 3381, 159, 240, 9592],\n",
       " [6266, 6990, 5164, 3683]]"
      ]
     },
     "execution_count": 33,
     "metadata": {},
     "output_type": "execute_result"
    }
   ],
   "source": [
    "# One Hot Representation \n",
    "one_hot_repr=[one_hot(words,voc_size)for words in sent]\n",
    "one_hot_repr"
   ]
  },
  {
   "cell_type": "code",
   "execution_count": 34,
   "id": "705b0bf3",
   "metadata": {},
   "outputs": [],
   "source": [
    "# Word Embedding Representation\n",
    "\n",
    "from tensorflow.keras.layers import Embedding \n",
    "from tensorflow.keras.utils import pad_sequences\n",
    "from tensorflow.keras.models import Sequential"
   ]
  },
  {
   "cell_type": "code",
   "execution_count": 35,
   "id": "999cf098",
   "metadata": {},
   "outputs": [],
   "source": [
    "import numpy as np"
   ]
  },
  {
   "cell_type": "code",
   "execution_count": 36,
   "id": "e8fcd342",
   "metadata": {},
   "outputs": [
    {
     "name": "stdout",
     "output_type": "stream",
     "text": [
      "[[   0    0    0    0 3381 3984  240  875]\n",
      " [   0    0    0    0 3381 3984  240 4402]\n",
      " [   0    0    0    0 3381 8992  240 6728]\n",
      " [   0    0    0  632 7864 3273 3683 9883]\n",
      " [   0    0    0  632 7864 3273 3683 5912]\n",
      " [   0    0    0 7629 3381  159  240 9592]\n",
      " [   0    0    0    0 6266 6990 5164 3683]]\n"
     ]
    }
   ],
   "source": [
    "# Making each sentences of equal size using pad_sequences, below function using pre as value in padding which indicates that add 0 at the place where there is empty, and we had given the maz length of padding \n",
    "sent_length=8\n",
    "embedded_docs=pad_sequences(one_hot_repr,padding='pre',maxlen=sent_length)\n",
    "print(embedded_docs)"
   ]
  },
  {
   "cell_type": "code",
   "execution_count": 37,
   "id": "7b9a7375",
   "metadata": {},
   "outputs": [],
   "source": [
    "# Feature representation \n",
    "dim=10"
   ]
  },
  {
   "cell_type": "code",
   "execution_count": 38,
   "id": "e28025a9",
   "metadata": {},
   "outputs": [],
   "source": [
    "model=Sequential()\n",
    "model.add(Embedding(voc_size,dim,input_length=sent_length))\n",
    "model.compile('adam','mse')"
   ]
  },
  {
   "cell_type": "code",
   "execution_count": 39,
   "id": "17d9e6c6",
   "metadata": {},
   "outputs": [
    {
     "data": {
      "text/html": [
       "<pre style=\"white-space:pre;overflow-x:auto;line-height:normal;font-family:Menlo,'DejaVu Sans Mono',consolas,'Courier New',monospace\"><span style=\"font-weight: bold\">Model: \"sequential_3\"</span>\n",
       "</pre>\n"
      ],
      "text/plain": [
       "\u001b[1mModel: \"sequential_3\"\u001b[0m\n"
      ]
     },
     "metadata": {},
     "output_type": "display_data"
    },
    {
     "data": {
      "text/html": [
       "<pre style=\"white-space:pre;overflow-x:auto;line-height:normal;font-family:Menlo,'DejaVu Sans Mono',consolas,'Courier New',monospace\">┏━━━━━━━━━━━━━━━━━━━━━━━━━━━━━━━━━┳━━━━━━━━━━━━━━━━━━━━━━━━┳━━━━━━━━━━━━━━━┓\n",
       "┃<span style=\"font-weight: bold\"> Layer (type)                    </span>┃<span style=\"font-weight: bold\"> Output Shape           </span>┃<span style=\"font-weight: bold\">       Param # </span>┃\n",
       "┡━━━━━━━━━━━━━━━━━━━━━━━━━━━━━━━━━╇━━━━━━━━━━━━━━━━━━━━━━━━╇━━━━━━━━━━━━━━━┩\n",
       "│ embedding_3 (<span style=\"color: #0087ff; text-decoration-color: #0087ff\">Embedding</span>)         │ ?                      │   <span style=\"color: #00af00; text-decoration-color: #00af00\">0</span> (unbuilt) │\n",
       "└─────────────────────────────────┴────────────────────────┴───────────────┘\n",
       "</pre>\n"
      ],
      "text/plain": [
       "┏━━━━━━━━━━━━━━━━━━━━━━━━━━━━━━━━━┳━━━━━━━━━━━━━━━━━━━━━━━━┳━━━━━━━━━━━━━━━┓\n",
       "┃\u001b[1m \u001b[0m\u001b[1mLayer (type)                   \u001b[0m\u001b[1m \u001b[0m┃\u001b[1m \u001b[0m\u001b[1mOutput Shape          \u001b[0m\u001b[1m \u001b[0m┃\u001b[1m \u001b[0m\u001b[1m      Param #\u001b[0m\u001b[1m \u001b[0m┃\n",
       "┡━━━━━━━━━━━━━━━━━━━━━━━━━━━━━━━━━╇━━━━━━━━━━━━━━━━━━━━━━━━╇━━━━━━━━━━━━━━━┩\n",
       "│ embedding_3 (\u001b[38;5;33mEmbedding\u001b[0m)         │ ?                      │   \u001b[38;5;34m0\u001b[0m (unbuilt) │\n",
       "└─────────────────────────────────┴────────────────────────┴───────────────┘\n"
      ]
     },
     "metadata": {},
     "output_type": "display_data"
    },
    {
     "data": {
      "text/html": [
       "<pre style=\"white-space:pre;overflow-x:auto;line-height:normal;font-family:Menlo,'DejaVu Sans Mono',consolas,'Courier New',monospace\"><span style=\"font-weight: bold\"> Total params: </span><span style=\"color: #00af00; text-decoration-color: #00af00\">0</span> (0.00 B)\n",
       "</pre>\n"
      ],
      "text/plain": [
       "\u001b[1m Total params: \u001b[0m\u001b[38;5;34m0\u001b[0m (0.00 B)\n"
      ]
     },
     "metadata": {},
     "output_type": "display_data"
    },
    {
     "data": {
      "text/html": [
       "<pre style=\"white-space:pre;overflow-x:auto;line-height:normal;font-family:Menlo,'DejaVu Sans Mono',consolas,'Courier New',monospace\"><span style=\"font-weight: bold\"> Trainable params: </span><span style=\"color: #00af00; text-decoration-color: #00af00\">0</span> (0.00 B)\n",
       "</pre>\n"
      ],
      "text/plain": [
       "\u001b[1m Trainable params: \u001b[0m\u001b[38;5;34m0\u001b[0m (0.00 B)\n"
      ]
     },
     "metadata": {},
     "output_type": "display_data"
    },
    {
     "data": {
      "text/html": [
       "<pre style=\"white-space:pre;overflow-x:auto;line-height:normal;font-family:Menlo,'DejaVu Sans Mono',consolas,'Courier New',monospace\"><span style=\"font-weight: bold\"> Non-trainable params: </span><span style=\"color: #00af00; text-decoration-color: #00af00\">0</span> (0.00 B)\n",
       "</pre>\n"
      ],
      "text/plain": [
       "\u001b[1m Non-trainable params: \u001b[0m\u001b[38;5;34m0\u001b[0m (0.00 B)\n"
      ]
     },
     "metadata": {},
     "output_type": "display_data"
    }
   ],
   "source": [
    "model.summary()"
   ]
  },
  {
   "cell_type": "code",
   "execution_count": 40,
   "id": "4b4447ef",
   "metadata": {},
   "outputs": [
    {
     "name": "stdout",
     "output_type": "stream",
     "text": [
      "\u001b[1m1/1\u001b[0m \u001b[32m━━━━━━━━━━━━━━━━━━━━\u001b[0m\u001b[37m\u001b[0m \u001b[1m0s\u001b[0m 379ms/step\n"
     ]
    },
    {
     "data": {
      "text/plain": [
       "array([[[-3.05915717e-02, -2.95140278e-02,  4.93585952e-02,\n",
       "         -4.64825295e-02, -5.63107431e-04, -4.17497009e-03,\n",
       "         -4.10524383e-02,  4.05931957e-02,  1.82007216e-02,\n",
       "          1.04708448e-02],\n",
       "        [-3.05915717e-02, -2.95140278e-02,  4.93585952e-02,\n",
       "         -4.64825295e-02, -5.63107431e-04, -4.17497009e-03,\n",
       "         -4.10524383e-02,  4.05931957e-02,  1.82007216e-02,\n",
       "          1.04708448e-02],\n",
       "        [-3.05915717e-02, -2.95140278e-02,  4.93585952e-02,\n",
       "         -4.64825295e-02, -5.63107431e-04, -4.17497009e-03,\n",
       "         -4.10524383e-02,  4.05931957e-02,  1.82007216e-02,\n",
       "          1.04708448e-02],\n",
       "        [-3.05915717e-02, -2.95140278e-02,  4.93585952e-02,\n",
       "         -4.64825295e-02, -5.63107431e-04, -4.17497009e-03,\n",
       "         -4.10524383e-02,  4.05931957e-02,  1.82007216e-02,\n",
       "          1.04708448e-02],\n",
       "        [ 1.76920630e-02, -5.84338978e-03,  4.84342612e-02,\n",
       "         -1.42258629e-02,  1.76948644e-02, -1.08544715e-02,\n",
       "         -3.59355919e-02, -2.64011323e-04,  4.49755080e-02,\n",
       "         -8.65278393e-03],\n",
       "        [-3.33319530e-02,  3.14819254e-02, -1.80534124e-02,\n",
       "          1.52199976e-02, -1.81711540e-02,  4.57338803e-02,\n",
       "          8.97394493e-03,  2.35016458e-02,  2.72440575e-02,\n",
       "         -3.17864306e-02],\n",
       "        [ 1.92190520e-02, -2.11858749e-03,  2.75990255e-02,\n",
       "          2.85487510e-02,  1.49260797e-02, -4.42603491e-02,\n",
       "          4.57001813e-02, -3.20199355e-02,  2.73976475e-03,\n",
       "          3.66745628e-02],\n",
       "        [-3.06855198e-02, -4.45799902e-03, -2.34766845e-02,\n",
       "          1.59826614e-02, -1.65987387e-02, -2.58983020e-02,\n",
       "          1.02370493e-02,  2.02418305e-02, -3.45360860e-02,\n",
       "         -2.93177012e-02]],\n",
       "\n",
       "       [[-3.05915717e-02, -2.95140278e-02,  4.93585952e-02,\n",
       "         -4.64825295e-02, -5.63107431e-04, -4.17497009e-03,\n",
       "         -4.10524383e-02,  4.05931957e-02,  1.82007216e-02,\n",
       "          1.04708448e-02],\n",
       "        [-3.05915717e-02, -2.95140278e-02,  4.93585952e-02,\n",
       "         -4.64825295e-02, -5.63107431e-04, -4.17497009e-03,\n",
       "         -4.10524383e-02,  4.05931957e-02,  1.82007216e-02,\n",
       "          1.04708448e-02],\n",
       "        [-3.05915717e-02, -2.95140278e-02,  4.93585952e-02,\n",
       "         -4.64825295e-02, -5.63107431e-04, -4.17497009e-03,\n",
       "         -4.10524383e-02,  4.05931957e-02,  1.82007216e-02,\n",
       "          1.04708448e-02],\n",
       "        [-3.05915717e-02, -2.95140278e-02,  4.93585952e-02,\n",
       "         -4.64825295e-02, -5.63107431e-04, -4.17497009e-03,\n",
       "         -4.10524383e-02,  4.05931957e-02,  1.82007216e-02,\n",
       "          1.04708448e-02],\n",
       "        [ 1.76920630e-02, -5.84338978e-03,  4.84342612e-02,\n",
       "         -1.42258629e-02,  1.76948644e-02, -1.08544715e-02,\n",
       "         -3.59355919e-02, -2.64011323e-04,  4.49755080e-02,\n",
       "         -8.65278393e-03],\n",
       "        [-3.33319530e-02,  3.14819254e-02, -1.80534124e-02,\n",
       "          1.52199976e-02, -1.81711540e-02,  4.57338803e-02,\n",
       "          8.97394493e-03,  2.35016458e-02,  2.72440575e-02,\n",
       "         -3.17864306e-02],\n",
       "        [ 1.92190520e-02, -2.11858749e-03,  2.75990255e-02,\n",
       "          2.85487510e-02,  1.49260797e-02, -4.42603491e-02,\n",
       "          4.57001813e-02, -3.20199355e-02,  2.73976475e-03,\n",
       "          3.66745628e-02],\n",
       "        [-3.94942611e-03,  1.06042512e-02, -2.11842898e-02,\n",
       "         -3.17541249e-02, -9.57945734e-03, -2.63137221e-02,\n",
       "         -1.63193941e-02, -1.66311972e-02,  4.71831299e-02,\n",
       "         -1.44227259e-02]],\n",
       "\n",
       "       [[-3.05915717e-02, -2.95140278e-02,  4.93585952e-02,\n",
       "         -4.64825295e-02, -5.63107431e-04, -4.17497009e-03,\n",
       "         -4.10524383e-02,  4.05931957e-02,  1.82007216e-02,\n",
       "          1.04708448e-02],\n",
       "        [-3.05915717e-02, -2.95140278e-02,  4.93585952e-02,\n",
       "         -4.64825295e-02, -5.63107431e-04, -4.17497009e-03,\n",
       "         -4.10524383e-02,  4.05931957e-02,  1.82007216e-02,\n",
       "          1.04708448e-02],\n",
       "        [-3.05915717e-02, -2.95140278e-02,  4.93585952e-02,\n",
       "         -4.64825295e-02, -5.63107431e-04, -4.17497009e-03,\n",
       "         -4.10524383e-02,  4.05931957e-02,  1.82007216e-02,\n",
       "          1.04708448e-02],\n",
       "        [-3.05915717e-02, -2.95140278e-02,  4.93585952e-02,\n",
       "         -4.64825295e-02, -5.63107431e-04, -4.17497009e-03,\n",
       "         -4.10524383e-02,  4.05931957e-02,  1.82007216e-02,\n",
       "          1.04708448e-02],\n",
       "        [ 1.76920630e-02, -5.84338978e-03,  4.84342612e-02,\n",
       "         -1.42258629e-02,  1.76948644e-02, -1.08544715e-02,\n",
       "         -3.59355919e-02, -2.64011323e-04,  4.49755080e-02,\n",
       "         -8.65278393e-03],\n",
       "        [-4.18864116e-02,  3.30743678e-02, -5.57583570e-03,\n",
       "         -4.16536219e-02, -1.76697373e-02, -3.38067189e-02,\n",
       "         -4.85035554e-02,  4.23604958e-02, -4.86570373e-02,\n",
       "         -4.99221571e-02],\n",
       "        [ 1.92190520e-02, -2.11858749e-03,  2.75990255e-02,\n",
       "          2.85487510e-02,  1.49260797e-02, -4.42603491e-02,\n",
       "          4.57001813e-02, -3.20199355e-02,  2.73976475e-03,\n",
       "          3.66745628e-02],\n",
       "        [ 2.98190229e-02,  4.25301492e-04,  9.45584849e-03,\n",
       "         -1.93094257e-02, -4.69311960e-02, -3.49763036e-02,\n",
       "          3.95861976e-02, -1.13027170e-03, -1.61440372e-02,\n",
       "          3.06229852e-02]],\n",
       "\n",
       "       [[-3.05915717e-02, -2.95140278e-02,  4.93585952e-02,\n",
       "         -4.64825295e-02, -5.63107431e-04, -4.17497009e-03,\n",
       "         -4.10524383e-02,  4.05931957e-02,  1.82007216e-02,\n",
       "          1.04708448e-02],\n",
       "        [-3.05915717e-02, -2.95140278e-02,  4.93585952e-02,\n",
       "         -4.64825295e-02, -5.63107431e-04, -4.17497009e-03,\n",
       "         -4.10524383e-02,  4.05931957e-02,  1.82007216e-02,\n",
       "          1.04708448e-02],\n",
       "        [-3.05915717e-02, -2.95140278e-02,  4.93585952e-02,\n",
       "         -4.64825295e-02, -5.63107431e-04, -4.17497009e-03,\n",
       "         -4.10524383e-02,  4.05931957e-02,  1.82007216e-02,\n",
       "          1.04708448e-02],\n",
       "        [ 2.26432122e-02,  3.10334302e-02, -2.45272759e-02,\n",
       "         -2.05399282e-02,  2.08775736e-02,  3.90362777e-02,\n",
       "          1.13724098e-02, -4.90604527e-02,  1.51150934e-02,\n",
       "          1.12060420e-02],\n",
       "        [ 2.76040770e-02, -2.13945154e-02,  5.61401248e-06,\n",
       "         -3.13741453e-02, -7.18403980e-03,  2.82132067e-02,\n",
       "         -2.40264088e-03,  2.14143060e-02,  3.25683095e-02,\n",
       "         -3.85761634e-02],\n",
       "        [ 9.44007188e-04, -4.33622673e-03, -3.14561017e-02,\n",
       "         -1.07057020e-03,  4.03290652e-02,  3.71413715e-02,\n",
       "          6.83654100e-04, -4.95707169e-02,  9.53818485e-03,\n",
       "          4.85698842e-02],\n",
       "        [ 3.27743031e-02, -3.68108153e-02,  5.94147295e-03,\n",
       "          2.23835595e-02, -2.07377076e-02,  1.09371319e-02,\n",
       "         -4.07858938e-03,  4.69383262e-02, -9.59063694e-03,\n",
       "         -3.19940671e-02],\n",
       "        [ 4.77347262e-02,  1.48308761e-02,  1.07849240e-02,\n",
       "         -8.92712921e-03, -4.98429798e-02,  1.57246925e-02,\n",
       "         -3.70795950e-02, -2.37619411e-02,  6.26568869e-03,\n",
       "         -1.24565139e-02]],\n",
       "\n",
       "       [[-3.05915717e-02, -2.95140278e-02,  4.93585952e-02,\n",
       "         -4.64825295e-02, -5.63107431e-04, -4.17497009e-03,\n",
       "         -4.10524383e-02,  4.05931957e-02,  1.82007216e-02,\n",
       "          1.04708448e-02],\n",
       "        [-3.05915717e-02, -2.95140278e-02,  4.93585952e-02,\n",
       "         -4.64825295e-02, -5.63107431e-04, -4.17497009e-03,\n",
       "         -4.10524383e-02,  4.05931957e-02,  1.82007216e-02,\n",
       "          1.04708448e-02],\n",
       "        [-3.05915717e-02, -2.95140278e-02,  4.93585952e-02,\n",
       "         -4.64825295e-02, -5.63107431e-04, -4.17497009e-03,\n",
       "         -4.10524383e-02,  4.05931957e-02,  1.82007216e-02,\n",
       "          1.04708448e-02],\n",
       "        [ 2.26432122e-02,  3.10334302e-02, -2.45272759e-02,\n",
       "         -2.05399282e-02,  2.08775736e-02,  3.90362777e-02,\n",
       "          1.13724098e-02, -4.90604527e-02,  1.51150934e-02,\n",
       "          1.12060420e-02],\n",
       "        [ 2.76040770e-02, -2.13945154e-02,  5.61401248e-06,\n",
       "         -3.13741453e-02, -7.18403980e-03,  2.82132067e-02,\n",
       "         -2.40264088e-03,  2.14143060e-02,  3.25683095e-02,\n",
       "         -3.85761634e-02],\n",
       "        [ 9.44007188e-04, -4.33622673e-03, -3.14561017e-02,\n",
       "         -1.07057020e-03,  4.03290652e-02,  3.71413715e-02,\n",
       "          6.83654100e-04, -4.95707169e-02,  9.53818485e-03,\n",
       "          4.85698842e-02],\n",
       "        [ 3.27743031e-02, -3.68108153e-02,  5.94147295e-03,\n",
       "          2.23835595e-02, -2.07377076e-02,  1.09371319e-02,\n",
       "         -4.07858938e-03,  4.69383262e-02, -9.59063694e-03,\n",
       "         -3.19940671e-02],\n",
       "        [-7.87122175e-03, -4.14455421e-02, -4.59653251e-02,\n",
       "         -4.78643067e-02,  4.70146574e-02, -2.34699380e-02,\n",
       "          3.48010696e-02,  4.29763645e-03, -4.43121195e-02,\n",
       "         -4.34820317e-02]],\n",
       "\n",
       "       [[-3.05915717e-02, -2.95140278e-02,  4.93585952e-02,\n",
       "         -4.64825295e-02, -5.63107431e-04, -4.17497009e-03,\n",
       "         -4.10524383e-02,  4.05931957e-02,  1.82007216e-02,\n",
       "          1.04708448e-02],\n",
       "        [-3.05915717e-02, -2.95140278e-02,  4.93585952e-02,\n",
       "         -4.64825295e-02, -5.63107431e-04, -4.17497009e-03,\n",
       "         -4.10524383e-02,  4.05931957e-02,  1.82007216e-02,\n",
       "          1.04708448e-02],\n",
       "        [-3.05915717e-02, -2.95140278e-02,  4.93585952e-02,\n",
       "         -4.64825295e-02, -5.63107431e-04, -4.17497009e-03,\n",
       "         -4.10524383e-02,  4.05931957e-02,  1.82007216e-02,\n",
       "          1.04708448e-02],\n",
       "        [-1.41479485e-02, -1.30960718e-02,  1.45892538e-02,\n",
       "         -2.22231150e-02, -3.72257717e-02, -3.77496853e-02,\n",
       "         -2.43136771e-02,  3.95825244e-02,  4.85384353e-02,\n",
       "          4.12150137e-02],\n",
       "        [ 1.76920630e-02, -5.84338978e-03,  4.84342612e-02,\n",
       "         -1.42258629e-02,  1.76948644e-02, -1.08544715e-02,\n",
       "         -3.59355919e-02, -2.64011323e-04,  4.49755080e-02,\n",
       "         -8.65278393e-03],\n",
       "        [-1.09777227e-02,  4.41222303e-02, -3.95496860e-02,\n",
       "          4.43692096e-02, -2.40760092e-02, -3.28918844e-02,\n",
       "          3.81062739e-02, -4.63255309e-02, -8.85474682e-03,\n",
       "          2.01548450e-02],\n",
       "        [ 1.92190520e-02, -2.11858749e-03,  2.75990255e-02,\n",
       "          2.85487510e-02,  1.49260797e-02, -4.42603491e-02,\n",
       "          4.57001813e-02, -3.20199355e-02,  2.73976475e-03,\n",
       "          3.66745628e-02],\n",
       "        [-4.31262627e-02,  3.23699787e-03, -1.97120439e-02,\n",
       "         -2.93027237e-03, -3.61189246e-02,  4.61576618e-02,\n",
       "          4.16377671e-02,  3.94332409e-03,  3.82941999e-02,\n",
       "          3.11920755e-02]],\n",
       "\n",
       "       [[-3.05915717e-02, -2.95140278e-02,  4.93585952e-02,\n",
       "         -4.64825295e-02, -5.63107431e-04, -4.17497009e-03,\n",
       "         -4.10524383e-02,  4.05931957e-02,  1.82007216e-02,\n",
       "          1.04708448e-02],\n",
       "        [-3.05915717e-02, -2.95140278e-02,  4.93585952e-02,\n",
       "         -4.64825295e-02, -5.63107431e-04, -4.17497009e-03,\n",
       "         -4.10524383e-02,  4.05931957e-02,  1.82007216e-02,\n",
       "          1.04708448e-02],\n",
       "        [-3.05915717e-02, -2.95140278e-02,  4.93585952e-02,\n",
       "         -4.64825295e-02, -5.63107431e-04, -4.17497009e-03,\n",
       "         -4.10524383e-02,  4.05931957e-02,  1.82007216e-02,\n",
       "          1.04708448e-02],\n",
       "        [-3.05915717e-02, -2.95140278e-02,  4.93585952e-02,\n",
       "         -4.64825295e-02, -5.63107431e-04, -4.17497009e-03,\n",
       "         -4.10524383e-02,  4.05931957e-02,  1.82007216e-02,\n",
       "          1.04708448e-02],\n",
       "        [ 2.93615721e-02, -2.96008587e-02, -3.63813154e-02,\n",
       "          1.83407776e-02, -4.54689860e-02, -1.25452876e-02,\n",
       "         -1.07452162e-02, -3.05970442e-02, -2.67644972e-03,\n",
       "         -2.03230269e-02],\n",
       "        [-1.11341476e-04,  1.59248747e-02,  4.56606634e-02,\n",
       "         -4.56559174e-02,  2.14215405e-02, -4.13858891e-02,\n",
       "         -3.36052664e-02,  3.17203738e-02, -2.65450478e-02,\n",
       "          3.57772000e-02],\n",
       "        [-2.17183959e-02,  1.40885450e-02,  4.73499037e-02,\n",
       "         -1.43640861e-02, -6.00131601e-03, -3.35193276e-02,\n",
       "         -3.60912904e-02,  3.52013856e-04, -2.50840914e-02,\n",
       "         -2.96711922e-03],\n",
       "        [ 3.27743031e-02, -3.68108153e-02,  5.94147295e-03,\n",
       "          2.23835595e-02, -2.07377076e-02,  1.09371319e-02,\n",
       "         -4.07858938e-03,  4.69383262e-02, -9.59063694e-03,\n",
       "         -3.19940671e-02]]], dtype=float32)"
      ]
     },
     "execution_count": 40,
     "metadata": {},
     "output_type": "execute_result"
    }
   ],
   "source": [
    "model.predict(embedded_docs)"
   ]
  },
  {
   "cell_type": "code",
   "execution_count": 41,
   "id": "9db53626",
   "metadata": {},
   "outputs": [
    {
     "data": {
      "text/plain": [
       "array([   0,    0,    0,    0, 3381, 3984,  240,  875], dtype=int32)"
      ]
     },
     "execution_count": 41,
     "metadata": {},
     "output_type": "execute_result"
    }
   ],
   "source": [
    "embedded_docs[0]"
   ]
  },
  {
   "cell_type": "code",
   "execution_count": 42,
   "id": "af212de9",
   "metadata": {},
   "outputs": [
    {
     "ename": "ValueError",
     "evalue": "Exception encountered when calling Sequential.call().\n\n\u001b[1mCannot take the length of shape with unknown rank.\u001b[0m\n\nArguments received by Sequential.call():\n  • inputs=tf.Tensor(shape=<unknown>, dtype=int32)\n  • training=False\n  • mask=None\n  • kwargs=<class 'inspect._empty'>",
     "output_type": "error",
     "traceback": [
      "\u001b[31m---------------------------------------------------------------------------\u001b[39m",
      "\u001b[31mValueError\u001b[39m                                Traceback (most recent call last)",
      "\u001b[36mCell\u001b[39m\u001b[36m \u001b[39m\u001b[32mIn[42]\u001b[39m\u001b[32m, line 1\u001b[39m\n\u001b[32m----> \u001b[39m\u001b[32m1\u001b[39m \u001b[43mmodel\u001b[49m\u001b[43m.\u001b[49m\u001b[43mpredict\u001b[49m\u001b[43m(\u001b[49m\u001b[43membedded_docs\u001b[49m\u001b[43m[\u001b[49m\u001b[32;43m0\u001b[39;49m\u001b[43m]\u001b[49m\u001b[43m)\u001b[49m\n",
      "\u001b[36mFile \u001b[39m\u001b[32mc:\\Users\\AYAN SONI\\Desktop\\Deep Learning NLP\\venv\\Lib\\site-packages\\keras\\src\\utils\\traceback_utils.py:122\u001b[39m, in \u001b[36mfilter_traceback.<locals>.error_handler\u001b[39m\u001b[34m(*args, **kwargs)\u001b[39m\n\u001b[32m    119\u001b[39m     filtered_tb = _process_traceback_frames(e.__traceback__)\n\u001b[32m    120\u001b[39m     \u001b[38;5;66;03m# To get the full stack trace, call:\u001b[39;00m\n\u001b[32m    121\u001b[39m     \u001b[38;5;66;03m# `keras.config.disable_traceback_filtering()`\u001b[39;00m\n\u001b[32m--> \u001b[39m\u001b[32m122\u001b[39m     \u001b[38;5;28;01mraise\u001b[39;00m e.with_traceback(filtered_tb) \u001b[38;5;28;01mfrom\u001b[39;00m\u001b[38;5;250m \u001b[39m\u001b[38;5;28;01mNone\u001b[39;00m\n\u001b[32m    123\u001b[39m \u001b[38;5;28;01mfinally\u001b[39;00m:\n\u001b[32m    124\u001b[39m     \u001b[38;5;28;01mdel\u001b[39;00m filtered_tb\n",
      "\u001b[36mFile \u001b[39m\u001b[32mc:\\Users\\AYAN SONI\\Desktop\\Deep Learning NLP\\venv\\Lib\\site-packages\\keras\\src\\utils\\traceback_utils.py:122\u001b[39m, in \u001b[36mfilter_traceback.<locals>.error_handler\u001b[39m\u001b[34m(*args, **kwargs)\u001b[39m\n\u001b[32m    119\u001b[39m     filtered_tb = _process_traceback_frames(e.__traceback__)\n\u001b[32m    120\u001b[39m     \u001b[38;5;66;03m# To get the full stack trace, call:\u001b[39;00m\n\u001b[32m    121\u001b[39m     \u001b[38;5;66;03m# `keras.config.disable_traceback_filtering()`\u001b[39;00m\n\u001b[32m--> \u001b[39m\u001b[32m122\u001b[39m     \u001b[38;5;28;01mraise\u001b[39;00m e.with_traceback(filtered_tb) \u001b[38;5;28;01mfrom\u001b[39;00m\u001b[38;5;250m \u001b[39m\u001b[38;5;28;01mNone\u001b[39;00m\n\u001b[32m    123\u001b[39m \u001b[38;5;28;01mfinally\u001b[39;00m:\n\u001b[32m    124\u001b[39m     \u001b[38;5;28;01mdel\u001b[39;00m filtered_tb\n",
      "\u001b[31mValueError\u001b[39m: Exception encountered when calling Sequential.call().\n\n\u001b[1mCannot take the length of shape with unknown rank.\u001b[0m\n\nArguments received by Sequential.call():\n  • inputs=tf.Tensor(shape=<unknown>, dtype=int32)\n  • training=False\n  • mask=None\n  • kwargs=<class 'inspect._empty'>"
     ]
    }
   ],
   "source": [
    "model.predict(embedded_docs[0])"
   ]
  },
  {
   "cell_type": "code",
   "execution_count": null,
   "id": "c8cb7e40",
   "metadata": {},
   "outputs": [],
   "source": []
  }
 ],
 "metadata": {
  "kernelspec": {
   "display_name": "Python 3",
   "language": "python",
   "name": "python3"
  },
  "language_info": {
   "codemirror_mode": {
    "name": "ipython",
    "version": 3
   },
   "file_extension": ".py",
   "mimetype": "text/x-python",
   "name": "python",
   "nbconvert_exporter": "python",
   "pygments_lexer": "ipython3",
   "version": "3.11.0"
  }
 },
 "nbformat": 4,
 "nbformat_minor": 5
}
